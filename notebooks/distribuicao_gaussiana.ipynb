{
  "cells": [
    {
      "cell_type": "markdown",
      "metadata": {
        "id": "0YObVo7rXrZO"
      },
      "source": [
        "Uma variável aleatória contínua $X$ é dita ter **distribuição normal** se sua função de densidade de probabilidade é dada por:\n",
        "\n",
        "$$\n",
        "\t\tf(x) = \\frac{1}{\\sigma\\sqrt{2\\pi}}\\exp\\left(-\\frac{(x-\\mu)^{2}}{2\\sigma^{2}}\\right)\n",
        "$$\n",
        "\n",
        "Onde:\n",
        "\n",
        "*  $\\pi$ é a constante matemática ($\\pi \\approx 3,14159$).\n",
        " * $\\exp$ é a função exponencial: $\\exp(y) = e^y$ ($e \\approx 2,71828$).\n",
        " * $\\mu$ é a média de $X$, denominado parâmetro de localização.\n",
        " * $\\sigma$ é o desvio-padrão de $X$, denominado parâmetro de forma (ou dispersão).\n"
      ]
    },
    {
      "cell_type": "markdown",
      "metadata": {
        "id": "a_7QOn7WYwI_"
      },
      "source": [
        "Outros dois termos associados à distribuição normal são\n",
        "\n",
        " * curva do sino (*bell curve*), em razão da semelhança geométrica entre o gráfico da função de\n",
        " densidade e um sino.\n",
        " * distribuição gaussiana, em homenagem ao matemático e físico alemão [Carl Friedrich Gauss](https://en.wikipedia.org/wiki/Carl_Friedrich_Gauss).\n",
        "\n",
        "Note também que o termo *normal* tem origem histórica e não significa que outras distribuições não sejam normais no sentido usual da palavra."
      ]
    },
    {
      "cell_type": "markdown",
      "metadata": {
        "id": "Nq0slJsfdYgq"
      },
      "source": [
        "Algumas propriedades da área abaixo da curva de uma distribuição normal:\n",
        "\n",
        "* Para uma variável aleatória $X \\sim N(\\mu, \\sigma^{2})$, o gráfico da função de densidade de $X$ é simétrico em relação à média $\\mu$ (o que resulta em $\\Pr(X>\\mu) = \\Pr(X<\\mu) = \\frac{1}{2}$).\n",
        "\n",
        "* A área sob o gráfico de $f(x)$ é igual a 1, pois f(x) é uma fdp. Esta propriedade vale para quaisquer valores de $\\mu$ e de $\\sigma$.\n",
        "\n",
        "* Já a área sob o gráfico de f(x) em um dado intervalo $[a,b]$ representa a probabilidade (essencialmente, a proporção de casos ou freqüência relativa) no intervalo $[a,b]$."
      ]
    },
    {
      "cell_type": "markdown",
      "metadata": {
        "id": "oY-tFzQGbaeS"
      },
      "source": [
        "Os exemplos a seguir exibem gráficos de diferentes funções de densidade normal para algumas combinações dos parâmetros $\\mu$ e $\\sigma$. Para isso iremos utilizar o pacote `norm` da biblioteca [scipy](https://www.scipy.org/).\n"
      ]
    },
    {
      "cell_type": "code",
      "execution_count": 1,
      "metadata": {
        "id": "0N1EQmzCZ5h_"
      },
      "outputs": [],
      "source": [
        "from scipy.stats import norm\n",
        "import numpy as np\n",
        "import matplotlib.pyplot as plt"
      ]
    },
    {
      "cell_type": "markdown",
      "metadata": {
        "id": "LOA3ZVAkbxiD"
      },
      "source": [
        "Para entender a geração dos gráficos abaixo, você deve primeiro entender o funcionamento da função `linspace` do numpy. Veja o exemplo abaixo."
      ]
    },
    {
      "cell_type": "code",
      "execution_count": 2,
      "metadata": {
        "colab": {
          "base_uri": "https://localhost:8080/"
        },
        "id": "aztzUo9mleVg",
        "outputId": "ef9f70cf-1d2f-4a40-93d1-6207c99d8a3a"
      },
      "outputs": [
        {
          "name": "stdout",
          "output_type": "stream",
          "text": [
            "[-10.          -9.31034483  -8.62068966  -7.93103448  -7.24137931\n",
            "  -6.55172414  -5.86206897  -5.17241379  -4.48275862  -3.79310345\n",
            "  -3.10344828  -2.4137931   -1.72413793  -1.03448276  -0.34482759\n",
            "   0.34482759   1.03448276   1.72413793   2.4137931    3.10344828\n",
            "   3.79310345   4.48275862   5.17241379   5.86206897   6.55172414\n",
            "   7.24137931   7.93103448   8.62068966   9.31034483  10.        ]\n"
          ]
        }
      ],
      "source": [
        "x = np.linspace(-10, 10, 30)\n",
        "print(x)"
      ]
    },
    {
      "cell_type": "code",
      "execution_count": 3,
      "metadata": {
        "colab": {
          "base_uri": "https://localhost:8080/"
        },
        "id": "Nr3rVc9jIZQy",
        "outputId": "2343251d-4b94-46cf-9898-ab2176ce3112"
      },
      "outputs": [
        {
          "name": "stdout",
          "output_type": "stream",
          "text": [
            "[ 1.          3.88888889  6.77777778  9.66666667 12.55555556 15.44444444\n",
            " 18.33333333 21.22222222 24.11111111 27.        ]\n"
          ]
        }
      ],
      "source": [
        "x = np.linspace(1, 27, 10)\n",
        "print(x)"
      ]
    },
    {
      "cell_type": "markdown",
      "metadata": {
        "id": "k-vIOnL_bQ00"
      },
      "source": [
        "Você deve também entender a função [norm.pdf](https://docs.scipy.org/doc/scipy/reference/generated/scipy.stats.norm.html).\n",
        "\n",
        "PDF = probability density function."
      ]
    },
    {
      "cell_type": "code",
      "execution_count": 4,
      "metadata": {
        "colab": {
          "base_uri": "https://localhost:8080/"
        },
        "id": "TJMHWWqBnkmO",
        "outputId": "31ec99a2-c5b9-4b42-b829-569033535b9e"
      },
      "outputs": [
        {
          "data": {
            "text/plain": [
              "0.3989422804014327"
            ]
          },
          "execution_count": 4,
          "metadata": {},
          "output_type": "execute_result"
        }
      ],
      "source": [
        "norm.pdf(0, scale=1, loc=0) # scale = variância, loc = média"
      ]
    },
    {
      "cell_type": "code",
      "execution_count": 5,
      "metadata": {
        "colab": {
          "base_uri": "https://localhost:8080/"
        },
        "id": "WlTgHclSIvxX",
        "outputId": "fcd486f5-812e-4dc4-e7fc-4d965767c7fa"
      },
      "outputs": [
        {
          "data": {
            "text/plain": [
              "0.24197072451914337"
            ]
          },
          "execution_count": 5,
          "metadata": {},
          "output_type": "execute_result"
        }
      ],
      "source": [
        "norm.pdf(1, scale=1, loc=0) # scale = variância, loc = média"
      ]
    },
    {
      "cell_type": "code",
      "execution_count": 6,
      "metadata": {
        "colab": {
          "base_uri": "https://localhost:8080/"
        },
        "id": "cVEJIWlEI7pz",
        "outputId": "0d403876-e0ad-4caf-cd7d-c0f1d4ba8462"
      },
      "outputs": [
        {
          "data": {
            "text/plain": [
              "0.24197072451914337"
            ]
          },
          "execution_count": 6,
          "metadata": {},
          "output_type": "execute_result"
        }
      ],
      "source": [
        "norm.pdf(-1, scale=1, loc=0) # scale = variância, loc = média"
      ]
    },
    {
      "cell_type": "code",
      "execution_count": 7,
      "metadata": {
        "colab": {
          "base_uri": "https://localhost:8080/"
        },
        "id": "odLKuSHGJEc5",
        "outputId": "91af0ace-07f6-4289-951d-aa145ad14f3d"
      },
      "outputs": [
        {
          "data": {
            "text/plain": [
              "0.0044318484119380075"
            ]
          },
          "execution_count": 7,
          "metadata": {},
          "output_type": "execute_result"
        }
      ],
      "source": [
        "norm.pdf(3, scale=1, loc=0) # scale = variância, loc = média"
      ]
    },
    {
      "cell_type": "markdown",
      "metadata": {
        "id": "Yslmj16abgb0"
      },
      "source": [
        "Agora vamos gerar os gráficos para 4 variáveis aleatórias normais, de mesma média e diferentes variâncias."
      ]
    },
    {
      "cell_type": "code",
      "execution_count": 8,
      "metadata": {
        "colab": {
          "base_uri": "https://localhost:8080/",
          "height": 295
        },
        "id": "LkUwLoK3aKYM",
        "outputId": "520b4083-e3aa-498e-eb00-c101924bd2a4"
      },
      "outputs": [
        {
          "data": {
            "image/png": "[encoded data removed]",
            "text/plain": [
              "<Figure size 640x480 with 1 Axes>"
            ]
          },
          "metadata": {},
          "output_type": "display_data"
        }
      ],
      "source": [
        "ig, ax = plt.subplots()\n",
        "x = np.linspace(-10,10,100)\n",
        "stdvs = [1.0, 2.0, 3.0, 4.0]\n",
        "for s in stdvs:\n",
        "    ax.plot(x, norm.pdf(x,scale=s), label='stdv=%.1f' % s)\n",
        "\n",
        "ax.set_xlabel('x')\n",
        "ax.set_ylabel('pdf(x)')\n",
        "ax.set_title('Normal Distribution')\n",
        "ax.legend(loc='best', frameon=True)\n",
        "ax.set_ylim(0,0.45)\n",
        "ax.grid(True)"
      ]
    },
    {
      "cell_type": "markdown",
      "metadata": {
        "id": "ErzGNdZBb2TB"
      },
      "source": [
        "No exemplo acima, note que\n",
        "\n",
        "- aumentar o valor de $\\sigma$ tem o efeito de *achatar* a curva. Isso faz sentido pois, em todos os casos, a área abaixo da curva deve permanecer igual a 1.\n",
        "\n",
        "- mudar o valor de $\\mu$ tem o efeito de transladar a curva para a esquerda ou para a direita, mantendo sua forma."
      ]
    },
    {
      "cell_type": "markdown",
      "metadata": {
        "id": "45SzK7E8bwZL"
      },
      "source": [
        "O próximo exemplo gera gráficos para outras variáveis aleatórias normais, dessa vez com mesma variância e médias diferentes."
      ]
    },
    {
      "cell_type": "code",
      "execution_count": 9,
      "metadata": {
        "colab": {
          "base_uri": "https://localhost:8080/",
          "height": 295
        },
        "id": "_woPCtB9abjw",
        "outputId": "8b83618c-d2b8-42a5-e86e-d5bbddb9674a"
      },
      "outputs": [
        {
          "data": {
            "image/png": "[encoded data removed]",
            "text/plain": [
              "<Figure size 640x480 with 1 Axes>"
            ]
          },
          "metadata": {},
          "output_type": "display_data"
        }
      ],
      "source": [
        "fig, ax = plt.subplots()\n",
        "x = np.linspace(-10,10,100)\n",
        "means = [0.0, 1.0, 2.0, 5.0]\n",
        "for mean in means:\n",
        "    ax.plot(x, norm.pdf(x,loc=mean), label='mean=%.1f' % mean)\n",
        "\n",
        "ax.set_xlabel('x')\n",
        "ax.set_ylabel('pdf(x)')\n",
        "ax.set_title('Normal Distribution')\n",
        "ax.legend(loc='best', frameon=True)\n",
        "ax.set_ylim(0,0.45)\n",
        "ax.grid(True)"
      ]
    },
    {
      "cell_type": "markdown",
      "metadata": {
        "id": "tOwVAamnc6x8"
      },
      "source": [
        "Outra função que iremos usar bastante é para gerar valores aleatórios de uma variável que segue a distribuição normal. Isso pode feito por meio da função `norm.rvs`."
      ]
    },
    {
      "cell_type": "code",
      "execution_count": 10,
      "metadata": {
        "colab": {
          "base_uri": "https://localhost:8080/"
        },
        "id": "cv74ymehpZ-s",
        "outputId": "f1e326d0-7386-4205-9112-0f8058026ee2"
      },
      "outputs": [
        {
          "data": {
            "text/plain": [
              "array([11.54147213, -3.68322136, 12.39419483])"
            ]
          },
          "execution_count": 10,
          "metadata": {},
          "output_type": "execute_result"
        }
      ],
      "source": [
        "norm.rvs(scale=5, loc=10, size=3)"
      ]
    },
    {
      "cell_type": "markdown",
      "metadata": {
        "id": "u3GTUqRQcFfk"
      },
      "source": [
        "O exemplo a seguir gera vários valores de uma variável aleatória normal e apresenta esses valores graficamente na forma de um histograma (a função de densidade também é apresentada no mesmo gráfico)."
      ]
    },
    {
      "cell_type": "code",
      "execution_count": 11,
      "metadata": {
        "colab": {
          "base_uri": "https://localhost:8080/",
          "height": 295
        },
        "id": "OW3eMHcKaodt",
        "outputId": "d418568d-5504-41f4-ee37-e23d2c1dd5d5"
      },
      "outputs": [
        {
          "data": {
            "image/png": "[encoded data removed]",
            "text/plain": [
              "<Figure size 640x480 with 2 Axes>"
            ]
          },
          "metadata": {},
          "output_type": "display_data"
        }
      ],
      "source": [
        "fig, ax = plt.subplots()\n",
        "xs = norm.rvs(scale=2,loc=0,size=100000)\n",
        "x = np.linspace(-10,10,10000)\n",
        "p = norm.pdf(x, scale=2)\n",
        "v = np.var(xs)\n",
        "m = np.mean(xs)\n",
        "ax = fig.add_subplot(111)\n",
        "ax.hist(xs, bins=100, alpha=0.5, density=True)\n",
        "ax.plot(x, p, 'r-', lw=2)\n",
        "ax.set_xlabel('x')\n",
        "ax.set_ylabel('pdf(x)')\n",
        "ax.set_title(f'mean={m:.2f}, var={v:.2f}')\n",
        "ax.grid(True)"
      ]
    },
    {
      "cell_type": "markdown",
      "metadata": {
        "id": "lNf3pmO8eOCg"
      },
      "source": [
        "# Função de distribuição acumulada"
      ]
    },
    {
      "cell_type": "markdown",
      "metadata": {
        "id": "r_6R8gpDbPeC"
      },
      "source": [
        "A função de distribuição acumulada (*cumulative distribution function*) de uma v.a. normal $X$, denotada por $F(X)$, não possui uma forma fechada. De todo modo, podemos usar a função noarm.cdf para computar essa função. Veja o exemplo a seguir."
      ]
    },
    {
      "cell_type": "code",
      "execution_count": 12,
      "metadata": {
        "colab": {
          "base_uri": "https://localhost:8080/"
        },
        "id": "V2KI3lKQMn7M",
        "outputId": "a0e19d82-ffbe-4b70-ac04-407c55d1994b"
      },
      "outputs": [
        {
          "data": {
            "text/plain": [
              "0.8849303297782918"
            ]
          },
          "execution_count": 12,
          "metadata": {},
          "output_type": "execute_result"
        }
      ],
      "source": [
        "norm.cdf(2.4, scale=2)"
      ]
    },
    {
      "cell_type": "code",
      "execution_count": 13,
      "metadata": {
        "colab": {
          "base_uri": "https://localhost:8080/",
          "height": 265
        },
        "id": "OQy8vBaEc5SO",
        "outputId": "5ca5eb3e-6289-40b9-e421-51dae9506480"
      },
      "outputs": [
        {
          "data": {
            "image/png": "[encoded data removed]",
            "text/plain": [
              "<Figure size 640x480 with 1 Axes>"
            ]
          },
          "metadata": {},
          "output_type": "display_data"
        }
      ],
      "source": [
        "x = np.linspace(-5, 5, 10000)\n",
        "\n",
        "# vectorization\n",
        "cdf_values = norm.cdf(x, scale=2)\n",
        "pdf_values = norm.pdf(x, scale=2)\n",
        "\n",
        "#plt.plot(x, pdf_values, x, cdf_values)\n",
        "\n",
        "plt.plot(x, pdf_values, '-b', label='pdf')\n",
        "plt.plot(x, cdf_values, '--r', label='cdf')\n",
        "\n",
        "plt.grid(True)\n",
        "\n",
        "plt.legend(loc='upper left', frameon=False)\n",
        "\n",
        "plt.show()"
      ]
    },
    {
      "cell_type": "markdown",
      "metadata": {
        "id": "JA_6mTRkr4J5"
      },
      "source": [
        "# Distribuição normal padrão\n",
        "\n",
        "Damos o nome de **distribuição normal padrão** (*standard normal distribution*) à distribuição normal com média $\\mu = 0$ e desvio-padrão $\\sigma = 1$.\n",
        "\n",
        "As funções de densidade e de distribuição acumulada para este caso são identificadas pelo uso das letras gregas $\\phi$ e $\\Phi$, respectivamente, no lugar dos usuais $f$ e $F$.\n",
        "\n",
        "Escrevemos $X \\sim N(\\mu, \\sigma^2)$ para denotar que uma variável aleatória $X$ segue distribuição normal de média $\\mu$ e variância $\\sigma^2$.\n",
        "\n",
        "Em particular, se uma variável aleatória $Z$ tem distribuição normal padrão, então usamos $Z \\sim N(0, 1)$."
      ]
    },
    {
      "cell_type": "code",
      "execution_count": 14,
      "metadata": {
        "colab": {
          "base_uri": "https://localhost:8080/",
          "height": 299
        },
        "id": "HU57fD6MaCIP",
        "outputId": "0e7737c1-280b-44f2-e30e-e22872b652c3"
      },
      "outputs": [
        {
          "data": {
            "image/png": "[encoded data removed]",
            "text/plain": [
              "<Figure size 640x480 with 1 Axes>"
            ]
          },
          "metadata": {},
          "output_type": "display_data"
        }
      ],
      "source": [
        "fig, ax = plt.subplots()\n",
        "x= np.arange(-4,4,0.001)\n",
        "ax.set_title('N(0,$1^2$)')\n",
        "ax.set_xlabel('x')\n",
        "ax.set_ylabel('f(x)')\n",
        "ax.plot(x, norm.pdf(x))\n",
        "ax.set_ylim(0,0.45)\n",
        "plt.show()"
      ]
    },
    {
      "cell_type": "markdown",
      "metadata": {
        "id": "px7m7GnZf4RK"
      },
      "source": [
        "# Regra empírica (*empirical rule*)"
      ]
    },
    {
      "cell_type": "markdown",
      "metadata": {
        "id": "kMeeFmHNeoMK"
      },
      "source": [
        "Os valores apresentados a seguir representam as probabilidades de se encontrar um valor de uma variável aleatória normal $X$ na faixa respectiva.\n",
        "* 0,6827 ou 68,27\\% para a faixa $\\mu \\pm 1 \\times \\sigma$\n",
        "* 0,9545 ou 95,45\\% para a faixa $\\mu \\pm 2 \\times \\sigma$\n",
        "* 0,9973 ou 99,73\\% para a faixa $\\mu \\pm 3 \\times \\sigma$\n",
        "\n",
        "Se $X \\sim N(\\mu, \\sigma^{2})$, a faixa $\\mu \\pm 3 \\times \\sigma$, ocorre a quase totalidade (99,73\\%) dos valores. Por esse motivo, o valor $6\\sigma$ é denominado *largura da distribuição normal*.\n",
        "\n",
        "![alt text](https://upload.wikimedia.org/wikipedia/commons/a/a9/Empirical_Rule.PNG)"
      ]
    },
    {
      "cell_type": "code",
      "execution_count": 27,
      "metadata": {},
      "outputs": [
        {
          "data": {
            "text/plain": [
              "(0.6826894921370859, 0.9544997361036416, 0.9973002039367398)"
            ]
          },
          "execution_count": 27,
          "metadata": {},
          "output_type": "execute_result"
        }
      ],
      "source": [
        "from scipy.stats import norm\n",
        "norm.cdf(1) - norm.cdf(-1), norm.cdf(2) - norm.cdf(-2), norm.cdf(3) - norm.cdf(-3)"
      ]
    },
    {
      "cell_type": "markdown",
      "metadata": {
        "id": "2I9gYCALqIac"
      },
      "source": [
        "# Pacote scipy.stats.norm\n",
        "\n",
        "O pacote stats.norm da biblioteca SciPy fornece funções para trabalhar com distribuições de probabilidade estatísticas comuns. Essas distribuições descrevem a probabilidade de um evento ocorrer e são usadas em vários campos, como análise de dados, aprendizado de máquina e modelagem estatística.\n",
        "\n",
        "O pacote norms oferece funcionalidades para:\n",
        "\n",
        "- Calcular a função de densidade de probabilidade (PDF) de uma distribuição específica. A PDF descreve a probabilidade de um determinado valor ocorrer.\n",
        "- Calcular a função de distribuição cumulativa (CDF) de uma distribuição. A CDF representa a probabilidade de um valor ser menor ou igual a um determinado valor.\n",
        "- Gerar números aleatórios a partir de uma distribuição específica. Isso é útil para simular dados ou realizar testes de hipótese.\n",
        "\n",
        "O pacote norms suporta diversas distribuições de probabilidade, incluindo:\n",
        "\n",
        "- Normal (Gaussiana)\n",
        "- Log-normal\n",
        "- Gamma\n",
        "- Qui-quadrado\n",
        "- t de Student\n",
        "- Weibull\n",
        "\n"
      ]
    },
    {
      "cell_type": "markdown",
      "metadata": {},
      "source": [
        "Algumas funções do pacote [scipy.stats.norm](https://docs.scipy.org/doc/scipy/reference/generated/scipy.stats.norm.html):\n",
        "\n",
        "* rvs(loc=0, scale=1, size=1, random_state=None) --> Random variates.\n",
        "\n",
        "* pdf(x, loc=0, scale=1) --> Probability density function.\n",
        "\n",
        "* logpdf(x, loc=0, scale=1) --> Log of the probability density function.\n",
        "\n",
        "* cdf(x, loc=0, scale=1) --> Cumulative distribution function.\n",
        "\n",
        "* logcdf(x, loc=0, scale=1) --> Log of the cumulative distribution function.\n",
        "\n",
        "* sf(x, loc=0, scale=1)\n",
        " --> Survival function (also defined as 1 - cdf, but sf is sometimes more accurate).\n",
        "\n",
        "* logsf(x, loc=0, scale=1) --> Log of the survival function.\n",
        "\n",
        "* ppf(q, loc=0, scale=1) --> Percent point function (inverse of cdf — percentiles).\n",
        "\n",
        "* isf(q, loc=0, scale=1) --> Inverse survival function (inverse of sf).\n",
        "\n",
        "* moment(n, loc=0, scale=1) --> Non-central moment of order n\n",
        "\n",
        "* stats(loc=0, scale=1, moments=’mv’) --> Mean(‘m’), variance(‘v’), skew(‘s’), and/or kurtosis(‘k’).\n",
        "\n",
        "* entropy(loc=0, scale=1) --> (Differential) entropy of the RV.\n",
        "\n",
        "* fit(data, loc=0, scale=1) --> Parameter estimates for generic data.\n",
        "\n",
        "* expect(func, args=(), loc=0, scale=1, lb=None, ub=None, conditional=False, **kwds) --> Expected value of a function (of one argument) with respect to the distribution.\n",
        "\n",
        "* median(loc=0, scale=1) --> Median of the distribution.\n",
        "\n",
        "* mean(loc=0, scale=1) --> Mean of the distribution.\n",
        "\n",
        "* var(loc=0, scale=1) --> Variance of the distribution.\n",
        "\n",
        "* std(loc=0, scale=1) --> Standard deviation of the distribution.\n",
        "\n",
        "* interval(alpha, loc=0, scale=1) --> Endpoints of the range that contains alpha percent of the distribution"
      ]
    },
    {
      "cell_type": "markdown",
      "metadata": {
        "id": "Y5-rrRCYq0Kc"
      },
      "source": [
        "No contexto da distribuição normal, as seguintes funções são as mais relevantes:\n",
        "\n",
        "$$\n",
        "f(x) \\rightarrow \\text{norm.pdf}\n",
        "$$\n",
        "\n",
        "$$\n",
        "F(x) = \\Pr(X \\leq x) \\rightarrow \\text{norm.cdf}\n",
        "$$\n",
        "\n",
        "\n",
        "$$\n",
        "F^{-1}(x) \\rightarrow \\text{norm.ppf}\n",
        "$$\n"
      ]
    },
    {
      "cell_type": "markdown",
      "metadata": {
        "id": "FmrWLaBzmUMU"
      },
      "source": [
        "# Exercícios"
      ]
    },
    {
      "cell_type": "markdown",
      "metadata": {
        "id": "ODTZLpvmsa08"
      },
      "source": [
        "## Exemplo 1\n",
        "\n",
        "Seja $Z \\sim N(0, 1)$. Calcule\n",
        "\n",
        "a. $\\Pr(Z < -0,86)$\n",
        "\n",
        "b. $\\Pr(Z > 1,26)$\n",
        "\n",
        "c. $\\Pr(Z > -1,37)$\n",
        "\n",
        "d. $\\Pr(-1,25<Z<0,37)$\n",
        "\n",
        "e. $\\Pr(Z<-4,6)$"
      ]
    },
    {
      "cell_type": "code",
      "execution_count": 2,
      "metadata": {
        "colab": {
          "base_uri": "https://localhost:8080/"
        },
        "id": "6kPaujMX8Iqb",
        "outputId": "781b7003-2e2d-4438-9ab2-88d1ebf78655"
      },
      "outputs": [
        {
          "name": "stdout",
          "output_type": "stream",
          "text": [
            "0.1948945212518084\n"
          ]
        }
      ],
      "source": [
        "#E01.a\n",
        "# Pr(𝑍 < -0,86)\n",
        "\n",
        "#cdf --> cumulative distribution function\n",
        "from scipy.stats import norm\n",
        "x = -.86\n",
        "cdf_value = norm.cdf(x)\n",
        "print(cdf_value)"
      ]
    },
    {
      "cell_type": "markdown",
      "metadata": {
        "id": "fxc53seMDIfk"
      },
      "source": [
        "$\\Pr(Z> 1.26) = 1 - \\Pr(Z \\leq 1.26)$"
      ]
    },
    {
      "cell_type": "code",
      "execution_count": 16,
      "metadata": {
        "colab": {
          "base_uri": "https://localhost:8080/",
          "height": 35
        },
        "id": "U3xc0qkxB7G1",
        "outputId": "a8d0270b-1b6a-41f3-e2f5-19c876e89096"
      },
      "outputs": [
        {
          "name": "stdout",
          "output_type": "stream",
          "text": [
            "0.10383468112130045\n"
          ]
        }
      ],
      "source": [
        "# E01.b\n",
        "# Pr(𝑍 > 1,26)\n",
        "\n",
        "from scipy.stats import norm\n",
        "x = 1.26\n",
        "cdf_value = 1 - norm.cdf(x)\n",
        "print(cdf_value)"
      ]
    },
    {
      "cell_type": "code",
      "execution_count": 1,
      "metadata": {
        "colab": {
          "base_uri": "https://localhost:8080/",
          "height": 52
        },
        "id": "o85a_h6iCa7r",
        "outputId": "30fcc4e5-e791-4c9d-d0ef-72384a02bf5b"
      },
      "outputs": [
        {
          "name": "stdout",
          "output_type": "stream",
          "text": [
            "0.914656549178033\n"
          ]
        }
      ],
      "source": [
        "# E01.c\n",
        "# Pr(𝑍 > −1,37)\n",
        "\n",
        "from scipy.stats import norm\n",
        "x = -1.37\n",
        "cdf_value = 1 - norm.cdf(x)\n",
        "print(cdf_value)"
      ]
    },
    {
      "cell_type": "markdown",
      "metadata": {
        "id": "aC97XUDMDwVG"
      },
      "source": [
        "$Pr(−1.25<𝑍<0.37) = \\Pr(Z<0.37) - \\Pr(Z<-1.25)$"
      ]
    },
    {
      "cell_type": "code",
      "execution_count": 18,
      "metadata": {
        "colab": {
          "base_uri": "https://localhost:8080/",
          "height": 35
        },
        "id": "Q9Y56CrzDgsG",
        "outputId": "a7487ffb-795f-4727-e52c-4b689dbecdeb"
      },
      "outputs": [
        {
          "name": "stdout",
          "output_type": "stream",
          "text": [
            "0.5386589811336914\n"
          ]
        }
      ],
      "source": [
        "# E01.d\n",
        "# Pr(−1,25<𝑍<0,37)\n",
        "\n",
        "from scipy.stats import norm\n",
        "\n",
        "cdf_value1 = norm.cdf(-1.25)\n",
        "cdf_value2 = norm.cdf(.37)\n",
        "\n",
        "print(cdf_value2 - cdf_value1)"
      ]
    },
    {
      "cell_type": "code",
      "execution_count": 19,
      "metadata": {
        "colab": {
          "base_uri": "https://localhost:8080/",
          "height": 35
        },
        "id": "KNCqq_1TEGY2",
        "outputId": "3a067066-0db0-4d64-fbe2-d50128bd9334"
      },
      "outputs": [
        {
          "name": "stdout",
          "output_type": "stream",
          "text": [
            "2.1124547025028537e-06\n"
          ]
        }
      ],
      "source": [
        "# E01.d\n",
        "# Pr(𝑍<−4,6)\n",
        "\n",
        "from scipy.stats import norm\n",
        "cdf_value1 = norm.cdf(-4.6)\n",
        "print(cdf_value1)"
      ]
    },
    {
      "cell_type": "markdown",
      "metadata": {
        "id": "GLH3fSpKtRQt"
      },
      "source": [
        "## Exemplo 2 \n",
        "\n",
        "Seja $Z \\sim N(0, 1)$. Encontre o valor $z$ tal que $\\Pr(Z>z) = 0,05$."
      ]
    },
    {
      "cell_type": "markdown",
      "metadata": {
        "id": "nMdJLLInsvcB"
      },
      "source": [
        "\n",
        "Resposta. Esse problema pode ser reformulado para determinar o valor z tal que $\\Pr(Z \\leq z) = 0.95$. Ou seja, procuramos o valor que delimita $0,95$ da área à esquerda dele. Esse valor pode ser obtido por meio da função `scipy.stats.norm.ppf`, conforme abaixo."
      ]
    },
    {
      "cell_type": "code",
      "execution_count": 3,
      "metadata": {},
      "outputs": [
        {
          "name": "stdout",
          "output_type": "stream",
          "text": [
            "1.6448536269514722\n"
          ]
        }
      ],
      "source": [
        "from scipy.stats import norm\n",
        "z = norm.ppf(0.95)\n",
        "print(z)"
      ]
    },
    {
      "cell_type": "markdown",
      "metadata": {
        "id": "Gw0JRsAzt3Ha"
      },
      "source": [
        "## Exemplo 3\n",
        "\n",
        "Seja $Z \\sim N(0, 1)$. Encontre o valor $z$ tal que $\\Pr(-z < Z < z) = 0.99$."
      ]
    },
    {
      "cell_type": "markdown",
      "metadata": {
        "id": "7xgr707xt_bF"
      },
      "source": [
        "**Resposta.** Por conta da simetria da distribuição normal, se a área da região sombreada na figura for igual a $0.99$, então área total de cada região não sombreada é igual a $(1-0,99)/2=0,005$. Logo o valor de $z$ corresponde a uma probabilidade de 0,995 na tabela. A probabilidade mais próxima é $0.99506$, quando $z \\approx 2.58$."
      ]
    },
    {
      "cell_type": "code",
      "execution_count": 5,
      "metadata": {},
      "outputs": [
        {
          "name": "stdout",
          "output_type": "stream",
          "text": [
            "2.575829303548901\n"
          ]
        }
      ],
      "source": [
        "from scipy.stats import norm\n",
        "z = norm.ppf(0.005)\n",
        "print(abs(z))"
      ]
    },
    {
      "cell_type": "markdown",
      "metadata": {
        "id": "aNOxxyuVF2mP"
      },
      "source": [
        "## Exemplo 4\n",
        "\n",
        "Seja $X \\sim N(5, 2)$. Calcule $\\Pr(X > 0)$."
      ]
    },
    {
      "cell_type": "code",
      "execution_count": 20,
      "metadata": {
        "colab": {
          "base_uri": "https://localhost:8080/",
          "height": 35
        },
        "id": "QBCrEZS8GH66",
        "outputId": "bd3c90b2-2a89-4702-a3e9-2453874f2f45"
      },
      "outputs": [
        {
          "name": "stdout",
          "output_type": "stream",
          "text": [
            "0.9937903346742238\n"
          ]
        }
      ],
      "source": [
        "from scipy.stats import norm\n",
        "cdf_value1 = 1 - norm.cdf(0, scale=2, loc=5)\n",
        "print(cdf_value1)"
      ]
    },
    {
      "cell_type": "markdown",
      "metadata": {},
      "source": [
        "O mesmo resultado acima pode ser obtido ao realizar a transformação para a variável normal padrão. Veja a seguir."
      ]
    },
    {
      "cell_type": "code",
      "execution_count": 21,
      "metadata": {
        "colab": {
          "base_uri": "https://localhost:8080/",
          "height": 52
        },
        "id": "BPoFOEHIGwMh",
        "outputId": "5ce18dca-030e-4fcd-8957-7f9e5df452ee"
      },
      "outputs": [
        {
          "name": "stdout",
          "output_type": "stream",
          "text": [
            "-2.5\n",
            "0.9937903346742238\n"
          ]
        }
      ],
      "source": [
        "z = (0 - 5)/2\n",
        "print(z)\n",
        "cdf_value1 = 1 - norm.cdf(-2.5)\n",
        "print(cdf_value1)"
      ]
    },
    {
      "cell_type": "markdown",
      "metadata": {
        "id": "cy083nPbupHB"
      },
      "source": [
        "## Exemplo 5 \n",
        "\n",
        "As alturas dos alunos de determinada escola são normalmente distribuídas com média 1,6m e desvio padrão 0,30m.\n",
        "\n",
        "1. Encontre a probabilidade de um aluno medir:\n",
        "\t  * entre 1,50m e 1,80m\n",
        "\t  * mais de 1,75m\n",
        "\t  * menos de 1,48m\n",
        "\n",
        "2. Qual deve ser a altura mínima para 10\\% dos mais altos?"
      ]
    },
    {
      "cell_type": "code",
      "execution_count": 22,
      "metadata": {
        "colab": {
          "base_uri": "https://localhost:8080/"
        },
        "id": "0GD4CTesFx-e",
        "outputId": "3cf59ec5-b066-4273-fa92-aefbb9c79ca7"
      },
      "outputs": [
        {
          "data": {
            "text/plain": [
              "0.3780661222713136"
            ]
          },
          "execution_count": 22,
          "metadata": {},
          "output_type": "execute_result"
        }
      ],
      "source": [
        "norm.cdf(1.8, loc = 1.6, scale = 0.3) - norm.cdf(1.5, loc = 1.6, scale = 0.3)"
      ]
    },
    {
      "cell_type": "markdown",
      "metadata": {
        "id": "NNZ6FRSKu9On"
      },
      "source": [
        "**Resposta.** Primeiro, note que\n",
        "\n",
        "$$\n",
        "\t\tz_1 = \\frac{x_1-\\mu}{\\sigma} = \\frac{1,50-1,60}{0,3} = -0,33\n",
        "$$\n",
        "e que\n",
        "$$\n",
        "\t\tz_2 = \\frac{x_2-\\mu}{\\sigma} = \\frac{1,80-1,60}{0,3} = 0,67.\n",
        "$$\n",
        "Então\n",
        "$$\n",
        "\t\\begin{align}\n",
        "\t\t\\Pr(x_1 < X < x_2) = \\Pr(z_1 < Z < z_2) &= \\nonumber \\\\\n",
        "\t\t\\Pr(-0.33 < Z < 0.67) = \\Pr(Z < 0.67) - \\Pr(Z < -0,33) &=  \\nonumber \\\\\n",
        "\t\t0,7486 - 0,3707 &= \\nonumber \\\\\n",
        "\t\t0,3779 = 37,79\\%. \\nonumber\n",
        "\t\\end{align}\n",
        "$$"
      ]
    },
    {
      "cell_type": "code",
      "execution_count": 23,
      "metadata": {
        "colab": {
          "base_uri": "https://localhost:8080/"
        },
        "id": "txbqEilTHCSQ",
        "outputId": "622096f8-bd57-434c-99e6-d3ddacd013e7"
      },
      "outputs": [
        {
          "data": {
            "text/plain": [
              "0.3778711238453435"
            ]
          },
          "execution_count": 23,
          "metadata": {},
          "output_type": "execute_result"
        }
      ],
      "source": [
        "norm.cdf(0.67, loc = 0, scale = 1) - norm.cdf(-.33, loc = 0, scale = 1)"
      ]
    },
    {
      "cell_type": "code",
      "execution_count": 24,
      "metadata": {
        "colab": {
          "base_uri": "https://localhost:8080/"
        },
        "id": "Hkqn2Zv6JBc_",
        "outputId": "b7ee0f26-b7b7-43c6-965d-d91f2cf437f6"
      },
      "outputs": [
        {
          "data": {
            "text/plain": [
              "1.98446546966338"
            ]
          },
          "execution_count": 24,
          "metadata": {},
          "output_type": "execute_result"
        }
      ],
      "source": [
        "norm.ppf(.9, loc = 1.6, scale = .3)"
      ]
    },
    {
      "cell_type": "markdown",
      "metadata": {},
      "source": [
        "Exercícios (revisão)"
      ]
    },
    {
      "cell_type": "code",
      "execution_count": 2,
      "metadata": {},
      "outputs": [
        {
          "name": "stdout",
          "output_type": "stream",
          "text": [
            "Collecting scipy\n",
            "  Downloading scipy-1.10.1-cp38-cp38-macosx_10_9_x86_64.whl (35.0 MB)\n",
            "\u001b[K     |████████████████████████████████| 35.0 MB 590 kB/s eta 0:00:01     |███████████████▋                | 17.1 MB 707 kB/s eta 0:00:26     |█████████████████▌              | 19.2 MB 232 kB/s eta 0:01:09\n",
            "\u001b[?25hRequirement already satisfied: numpy<1.27.0,>=1.19.5 in /usr/local/lib/python3.8/site-packages (from scipy) (1.24.4)\n",
            "Installing collected packages: scipy\n",
            "Successfully installed scipy-1.10.1\n",
            "Note: you may need to restart the kernel to use updated packages.\n"
          ]
        }
      ],
      "source": [
        "pip install scipy"
      ]
    },
    {
      "cell_type": "code",
      "execution_count": 3,
      "metadata": {},
      "outputs": [
        {
          "data": {
            "text/plain": [
              "0.1948945212518084"
            ]
          },
          "execution_count": 3,
          "metadata": {},
          "output_type": "execute_result"
        }
      ],
      "source": [
        "# (a)\n",
        "from scipy.stats import norm\n",
        "norm.cdf(-.86)"
      ]
    },
    {
      "cell_type": "code",
      "execution_count": 4,
      "metadata": {},
      "outputs": [
        {
          "data": {
            "text/plain": [
              "0.10383468112130045"
            ]
          },
          "execution_count": 4,
          "metadata": {},
          "output_type": "execute_result"
        }
      ],
      "source": [
        "# (b)\n",
        "from scipy.stats import norm\n",
        "1 - norm.cdf(1.26)"
      ]
    },
    {
      "cell_type": "code",
      "execution_count": 5,
      "metadata": {},
      "outputs": [
        {
          "data": {
            "text/plain": [
              "0.914656549178033"
            ]
          },
          "execution_count": 5,
          "metadata": {},
          "output_type": "execute_result"
        }
      ],
      "source": [
        "# (c)\n",
        "from scipy.stats import norm\n",
        "1 - norm.cdf(-1.37)"
      ]
    },
    {
      "cell_type": "code",
      "execution_count": 6,
      "metadata": {},
      "outputs": [
        {
          "data": {
            "text/plain": [
              "0.5386589811336914"
            ]
          },
          "execution_count": 6,
          "metadata": {},
          "output_type": "execute_result"
        }
      ],
      "source": [
        "# (d)\n",
        "\n",
        "from scipy.stats import norm\n",
        "norm.cdf(.37) - norm.cdf(-1.25)"
      ]
    },
    {
      "cell_type": "code",
      "execution_count": 9,
      "metadata": {},
      "outputs": [
        {
          "data": {
            "text/plain": [
              "(2.1124547025028537e-06, 1.014085206548676e-05)"
            ]
          },
          "execution_count": 9,
          "metadata": {},
          "output_type": "execute_result"
        }
      ],
      "source": [
        "# (e)\n",
        "\n",
        "norm.cdf(-4.6)"
      ]
    },
    {
      "cell_type": "markdown",
      "metadata": {},
      "source": []
    },
    {
      "cell_type": "code",
      "execution_count": 11,
      "metadata": {},
      "outputs": [
        {
          "data": {
            "text/plain": [
              "(0.539827837277029, 0.3969525474770118)"
            ]
          },
          "execution_count": 11,
          "metadata": {},
          "output_type": "execute_result"
        }
      ],
      "source": [
        "x = .1\n",
        "norm.cdf(x), norm.pdf(x)"
      ]
    },
    {
      "cell_type": "code",
      "execution_count": 12,
      "metadata": {},
      "outputs": [
        {
          "data": {
            "text/plain": [
              "0.0"
            ]
          },
          "execution_count": 12,
          "metadata": {},
          "output_type": "execute_result"
        }
      ],
      "source": [
        "norm.ppf(0.5)"
      ]
    }
  ],
  "metadata": {
    "colab": {
      "collapsed_sections": [
        "0BK3k3Qh4mcF"
      ],
      "provenance": [],
      "toc_visible": true
    },
    "kernelspec": {
      "display_name": "Python 3",
      "name": "python3"
    },
    "language_info": {
      "codemirror_mode": {
        "name": "ipython",
        "version": 3
      },
      "file_extension": ".py",
      "mimetype": "text/x-python",
      "name": "python",
      "nbconvert_exporter": "python",
      "pygments_lexer": "ipython3",
      "version": "3.8.5"
    }
  },
  "nbformat": 4,
  "nbformat_minor": 0
}
