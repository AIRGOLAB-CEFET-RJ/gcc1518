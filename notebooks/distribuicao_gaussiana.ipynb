{
  "nbformat": 4,
  "nbformat_minor": 0,
  "metadata": {
    "colab": {
      "provenance": [],
      "collapsed_sections": [
        "0BK3k3Qh4mcF"
      ],
      "toc_visible": true
    },
    "kernelspec": {
      "name": "python3",
      "display_name": "Python 3"
    }
  },
  "cells": [
    {
      "cell_type": "markdown",
      "metadata": {
        "id": "Zt9tdT90VVHw"
      },
      "source": [
        "# Definições iniciais"
      ]
    },
    {
      "cell_type": "markdown",
      "metadata": {
        "id": "CNjbxLW6srwP"
      },
      "source": [
        "### Experimento aleatório, espaço amostral e evento\n",
        "\n",
        "Um experimento aleatório é aquele que possui resultados imprevisíveis. O lançamento de um dado e de uma moeda são exemplos de experimentos aleatórios. No caso dos dados podemos ter seis resultados diferentes {1, 2, 3, 4, 5, 6} e no lançamento da moeda, dois {cara, coroa}.\n",
        "\n",
        "O espaço amostral de um experimento aleatório é o conjunto de todos os resultados possíveis do experimento.\n",
        "\n",
        "Por exemplo, se o experimento é lançar uma moeda e verificar a face voltada para cima, o espaço amostral é o conjunto $\\{cara,coroa\\}$. Para o lançamento de um dado de seis faces, o espaço amostral é $\\{1,2,3,4,5,6\\}$.\n",
        "\n",
        "Qualquer subconjunto de um espaço amostral é comumente chamado um **evento**, enquanto subconjuntos de um espaço amostral contendo apenas um único elemento são chamados de eventos elementares ou eventos atômicos."
      ]
    },
    {
      "cell_type": "markdown",
      "metadata": {
        "id": "4tNIdgXprVWG"
      },
      "source": [
        "## Variável aleatória\n",
        "\n",
        "Uma variável aleatória $X\\colon \\Omega \\to \\mathbb {R}$ é a função mensurável de $\\Omega$, o conjunto de resultados possíveis de um experimento aleatório, para um conjunto $\\mathbb{R}$.\n",
        "\n",
        "![alt text](https://upload.wikimedia.org/wikipedia/commons/thumb/b/b9/Exemplofuncao.png/500px-Exemplofuncao.png)"
      ]
    },
    {
      "cell_type": "markdown",
      "metadata": {
        "id": "eHrn4wSm4knC"
      },
      "source": [
        "$X=1$"
      ]
    },
    {
      "cell_type": "markdown",
      "metadata": {
        "id": "-hvhbJDjlhGu"
      },
      "source": [
        " ## Função densidade de probabilidade (probability density function - PDF)"
      ]
    },
    {
      "cell_type": "markdown",
      "metadata": {
        "id": "WPPFjssiVM31"
      },
      "source": [
        "\n",
        "Uma variável aleatória contínua $X$ tem **função densidade de probabilidade** $f(x)$ se $f$ é uma função não-negativa integrável tal que a probabilidade de $X$ assumir um valor no intervalo $\\left[a,b\\right]$ é dada por\n",
        "\n",
        "\\begin{equation}\n",
        "        \\int_{a}^b \\,f(x)\\,dx \\nonumber\n",
        "\\end{equation}\n",
        "\n",
        "quaisquer que sejam $a$ e $b$.\n",
        "\n",
        "Veja a figura abaixo. A probabilidade de $X$ assumir valores entre $a$ e $b$ é igual à integral de $f(x)$ de $a$ até $b$, isto é, igual à área sob a curva de $f(x)$ entre $a$ e $b$.\n",
        "\n",
        "![alt text](https://www.math24.net/wp-content/uploads/2019/09/probability-density-function1.svg)\n",
        "\n",
        "\\begin{equation}\n",
        "        \\Pr(a < X < b) = \\int_{a}^b \\,f(x)\\,dx \\nonumber\n",
        "\\end{equation}\n",
        "\n",
        "\n",
        "\n",
        "A probabilidade de todo o espaço amostral é $1$:\n",
        "\n",
        "\\begin{equation}\n",
        "        \\int_{-\\infty}^\\infty \\,f(x)\\,dx=1 \\nonumber\n",
        "\\end{equation}\n",
        "\n",
        "A função de densidade é zero para valores de x que não podem ocorrer e é considerada zero em pontos em que ela não for especificamente definida."
      ]
    },
    {
      "cell_type": "markdown",
      "metadata": {
        "id": "p_zKayyv7kiR"
      },
      "source": [
        "## Função de massa de probabilidade\n",
        "\n",
        "Uma variável aleatória discreta $X$ tem **função massa de probabilidade** $p(x)$ se $p$ é uma função não-negativa tal que a probabilidade de $X$ assumir um valor no intervalo $\\left[a,b\\right]$ é dada por\n",
        "\n",
        "$$\n",
        "\\sum_{a \\leq x \\leq b} p(x)\n",
        "$$\n"
      ]
    },
    {
      "cell_type": "markdown",
      "metadata": {
        "id": "KDWWfrEYvjPS"
      },
      "source": [
        "## Valor esperado\n",
        "\n",
        "Para uma variável aleatória discreta $X$ com valores possíveis $x_{1},x_{2},x_{3},\\ldots$ e com as suas probabilidades representadas pela função $p(x_{i})$, o valor esperado calcula-se pela série:\n",
        "\n",
        "$$\n",
        "E[X]=\\sum_{i=1}^{\\infty }x_{i} \\times p(x_{i})\n",
        "$$\n",
        "desde que a série seja convergente.\n",
        "\n",
        "Para uma variável aleatória contínua $X$, o valor esperado calcula-se mediante o integral de todos os valores da função de densidade $f(x)$:\n",
        "\n",
        "$$\n",
        "E[X]=\\int_{-\\infty }^{\\infty}xf(x)dx\n",
        "$$"
      ]
    },
    {
      "cell_type": "markdown",
      "metadata": {
        "id": "bTg3iEpi-Axb"
      },
      "source": [
        "Suponha uma variável aleatória $X$ correspondente ao experimento aleatório de jogar um dado de seis faces. Essa é uma variável discreta que pode assumir valores no conjunto $\\{1,2,3,4,5,6\\}$. Vamos calcular $E[X]$ em dois casos distintos. Para simplificar a notação, considere que $p_i = \\Pr(x_i)$."
      ]
    },
    {
      "cell_type": "markdown",
      "metadata": {
        "id": "aumk9Ei2-mfz"
      },
      "source": [
        "1$^o$ caso: a função de massa de probablidades não é equiprovável.\n",
        "\n",
        "| $x_i$  | $p_i$ |\n",
        "| ------------- | ------------- |\n",
        "| 1  | 1/2  |\n",
        "| 2  | 1/10  |\n",
        "| 3  | 1/10  |\n",
        "| 4  | 1/10  |\n",
        "| 5  | 1/10  |\n",
        "| 6  | 1/10  |\n",
        "\n",
        "\n",
        "\n"
      ]
    },
    {
      "cell_type": "code",
      "metadata": {
        "id": "uMiLG9I4h8hr",
        "colab": {
          "base_uri": "https://localhost:8080/",
          "height": 35
        },
        "outputId": "f2fbef56-a9f3-4b60-87c3-3c4cc299fc9d"
      },
      "source": [
        "(1 * 1/2) + (2 * 1/10) + (3 * 1/10) + (4 * 1/10) + (5 * 1/10) + (6 * 1/10)"
      ],
      "execution_count": null,
      "outputs": [
        {
          "output_type": "execute_result",
          "data": {
            "text/plain": [
              "2.5"
            ]
          },
          "metadata": {
            "tags": []
          },
          "execution_count": 3
        }
      ]
    },
    {
      "cell_type": "markdown",
      "metadata": {
        "id": "T0JL_1rI_db9"
      },
      "source": [
        "2$^o$ caso: a função de massa de probablidades é equiprovável.\n",
        "\n",
        "| $x_i$ | $p_i$   |\n",
        "| ----- | ----------|\n",
        "| 1     | 1/6        |\n",
        "| 2     | 1/6        |\n",
        "| 3     | 1/6        |\n",
        "| 4     | 1/6        |\n",
        "| 5     | 1/6        |\n",
        "| 6     | 1/6        |\n"
      ]
    },
    {
      "cell_type": "code",
      "metadata": {
        "id": "N5Gw8J7DBYIF",
        "colab": {
          "base_uri": "https://localhost:8080/",
          "height": 35
        },
        "outputId": "70cf1abb-01ef-4faa-a560-4506279c4901"
      },
      "source": [
        "(1 * 1/6) + (2 * 1/6) + (3 * 1/6) + (4 * 1/6) + (5 * 1/6) + (6 * 1/6)"
      ],
      "execution_count": null,
      "outputs": [
        {
          "output_type": "execute_result",
          "data": {
            "text/plain": [
              "3.5"
            ]
          },
          "metadata": {
            "tags": []
          },
          "execution_count": 2
        }
      ]
    },
    {
      "cell_type": "markdown",
      "metadata": {
        "id": "QZE_Xy1awymN"
      },
      "source": [
        "## Variância\n",
        "\n",
        "Considere que $X$ é uma variável aleatória e que $\\mu =\\operatorname {E}[X]$. A variância de $X$ é o valor esperado do desvio quadrado de $X$ relativo à sua média $\\mu$. As notações mais usadas para denotas a variância de uma variável aleatória $X$ são $\\operatorname{Var}(X)$ e $\\sigma^2_X$. Por vezes, iremos usar apenas $\\sigma^2$ quando isso não causar confusão.\n",
        "\n",
        "$$\n",
        "\\sigma^2_X = \\operatorname {E} \\left[(X-\\mu )^{2}\\right]\n",
        "$$\n",
        "\n",
        "Para o caso contínuo, temos a seguinte definição alternativa, na qual a integral é definida sobre o intervalo válido para $X$.\n",
        "\n",
        "\\begin{equation}\n",
        "    \\sigma^2_X =\\int (x-\\mu)^2 \\, f(x) \\, dx\n",
        "\\end{equation}\n",
        "\n",
        "Para o caso discreto, temos a seguinte definição de variância:\n",
        "\n",
        "\\begin{equation}\n",
        "    \\sigma^2_X = \\sum_{x_i \\in X} \\left[(x_i - \\mu)^2 \\Pr(X=x_i)\\right]\n",
        "\\end{equation}\n",
        "\n",
        "> Intuitivamente, a variância de uma variável aleatória mede o quanto os valores que essa variável pode assumir estão dispersos em todo do seu valor esperado.\n",
        "\n",
        "Vamos esclarecer essa noção intuitiva da variância considerando variáveis aleatórias que seguem a distribuição normal. O exemplo abaixo ([fonte](https://en.wikipedia.org/wiki/Normal_distribution)) mostra o gráfico de distribuições de várias variáveis normais. Note algumas dessas distribuições possuem a mesma média, mas possuem variâncias distintas.\n",
        "\n",
        "![](https://upload.wikimedia.org/wikipedia/commons/thumb/7/74/Normal_Distribution_PDF.svg/1920px-Normal_Distribution_PDF.svg.png)\n"
      ]
    },
    {
      "cell_type": "markdown",
      "metadata": {
        "id": "SqPbV00tWbvZ"
      },
      "source": [
        "## (**Importante**) Variância e média: dois significados\n",
        "\n",
        "É importante entender que o termo **variância** é usado em Estatística em dois contextos distintos (mas relacionados).\n",
        "\n",
        "- O primeiro é para denotar um parâmetro de alguma distribuição teórica ([geométrica](https://en.wikipedia.org/wiki/Geometric_distribution), [exponencial](https://en.wikipedia.org/wiki/Exponential_distribution), [binomial](https://en.wikipedia.org/wiki/Binomial_distribution), etc.) associada a uma variável aleatória. Normalmente a variância nesse contexto está associada a alguma fórmula matemática que mede a dispersão dos valores da variável em relação à média dos valores observados; quanto maior a variância, maior a dispersão. É nesse contexto que fazem sentido as expressões matemáticas para computar $\\sigma^2_X$ fornecidas acima.\n",
        "\n",
        "- O segundo é para denotar uma característica de um conjunto de observações realizadas sobre algum sistema ou processo do mundo real. Esse segundo significado é mais relevante para nosso curso. Nesse contexto, a variância mede a dispersão dos valores observados em relação à média; quanto maior a variância, maior a dispersão.\n",
        "\n",
        "No segundo contexto acima, há dois tipos de variância, a populacional e a amostral.\n",
        "\n",
        "- A **variância populacional** (*population variance*) diz respeito a um valor computado quando são conhecidas **todas** as observações do sistema.\n",
        "\n",
        "- A **variância amostral** (*sample variance*) é o valor computado quando são conhecidas apenas algumas observações.\n",
        "\n",
        "Considerando que $N$ é o tamanho da população de interesse finita, a variância populacional de uma variável aleatória $X$ discreta é definida como:\n",
        "$$\n",
        "\\operatorname \\sigma^2 = \\operatorname{Var}(X)={\\frac {1}{N}}\\sum _{i=1}^{N}(x_{i}-\\mu )^{2}\n",
        "$$\n",
        "Na expressão acima, $\\mu$ é o valor esperado da variável.\n",
        "\n",
        "Em situações práticas, a variância populacional raramente é conhecida (porque é impraticável ou mesmo impossível coletar todas as possíveis observações). A variância amostral é uma **estimativa** da variância populacional. Existem diversas forma de estimar a variância populacional por meio da variância amostral. Uma dessas formas é conhecida como a variância amostral não-viesada. Dado um conjunto de $n$ observações $Y_1, Y_2, Y_3, \\ldots, Y_n$ cuja média é $\\overline{Y}$, a variância amostral não-viesada, que denotamos por $s^2$, é computada da seguinte forma:\n",
        "\n",
        "$$\n",
        "s^{2}={\\frac {1}{n-1}}\\sum _{i=1}^{n}\\left(x_{i}-{\\overline{x}}\\right)^{2}\n",
        "$$\n",
        "\n",
        "A variância amostral não-viesada utiliza a denominada [correção de Bessel](https://en.wikipedia.org/wiki/Bessel%27s_correction), cuja justificativa e detalhamento vamos detalhar mais adiante no curso.\n",
        "\n",
        "A discussão apresentada aqui para variância é análoga para a média."
      ]
    },
    {
      "cell_type": "markdown",
      "metadata": {
        "id": "OkfdtdknWvzW"
      },
      "source": [
        " ## Função de distribuição acumulada\n"
      ]
    },
    {
      "cell_type": "markdown",
      "metadata": {
        "id": "poXL-jnzWq3f"
      },
      "source": [
        "A **função de distribuição acumulada** (*cumulative distribution function*) de uma variável aleatória contínua em um ponto $x$ é definida como a integral da função de densidade desde $-\\infty$ até o ponto $x$:\n",
        "\n",
        "\\begin{equation}\n",
        "        F(x) = \\Pr(X \\leq x) = \\int_{-\\infty}^{x} f(y) \\ dy\n",
        "\\end{equation}\n",
        "\n",
        "No caso discreto, temos:\n",
        "\n",
        "\n",
        "\\begin{equation}\n",
        "        F(x) = \\Pr(X \\leq x) = \\sum_{x_i \\leq x} p(x_i)\n",
        "\\end{equation}\n",
        "\n",
        "Como exemplo, considere a imagem a seguir ([fonte](https://en.wikipedia.org/wiki/Cumulative_distribution_function)), que apresenta o gráficos de três funções de distribuição acumulada para variáveis que segue a distribuição exponencial.\n",
        "\n",
        "![](https://upload.wikimedia.org/wikipedia/commons/thumb/7/77/Exponential_distribution_cdf.png/1280px-Exponential_distribution_cdf.png)"
      ]
    },
    {
      "cell_type": "markdown",
      "metadata": {
        "id": "0KEJ6mWmX0Xw"
      },
      "source": [
        "# Distribuição normal"
      ]
    },
    {
      "cell_type": "markdown",
      "metadata": {
        "id": "0YObVo7rXrZO"
      },
      "source": [
        "Uma variável aleatória contínua $X$ é dita ter **distribuição normal** se sua função de densidade de probabilidade é dada por:\n",
        "\t\\begin{equation}\n",
        "\t\tf(x) = \\frac{1}{\\sigma\\sqrt{2\\pi}}\\exp\\left(-\\frac{(x-\\mu)^{2}}{2\\sigma^{2}}\\right) = Z \\times \\exp\\left(-\\frac{(x-\\mu)^{2}}{2\\sigma^{2}}\\right)\n",
        "\t\\end{equation}\n",
        "Onde:\n",
        "\n",
        "*  $\\pi$ é a constante matemática ($\\pi \\approx 3,14159$).\n",
        " * $\\exp$ é a função exponencial: $\\exp(y) = e^y$ ($e \\approx 2,71828$).\n",
        " * $\\mu$ é a média de $X$, denominado parâmetro de localização.\n",
        " * $\\sigma$ é o desvio-padrão de $X$, denominado parâmetro de forma (ou dispersão).\n"
      ]
    },
    {
      "cell_type": "markdown",
      "metadata": {
        "id": "a_7QOn7WYwI_"
      },
      "source": [
        "Outros dois termos associados à distribuição normal são\n",
        "\n",
        " * curva do sino (*bell curve*), em razão da semelhança geométrica entre o gráfico da função de\n",
        " densidade e um sino.\n",
        " * distribuição gaussiana, em homenagem ao matemático e físico alemão [Carl Friedrich Gauss](https://en.wikipedia.org/wiki/Carl_Friedrich_Gauss).\n",
        "\n",
        "Note também que o termo *normal* tem origem histórica e não significa que outras distribuições não sejam normais no sentido usual da palavra."
      ]
    },
    {
      "cell_type": "markdown",
      "metadata": {
        "id": "Nq0slJsfdYgq"
      },
      "source": [
        "Algumas propriedades da área abaixo da curva de uma distribuição normal:\n",
        "\n",
        "* Para uma variável aleatória $X \\sim N(\\mu, \\sigma^{2})$, o gráfico da função de densidade de $X$ é simétrico em relação à média $\\mu$ (o que resulta em $\\Pr(X>\\mu) = \\Pr(X<\\mu) = \\frac{1}{2}$).\n",
        "\n",
        "* A área sob o gráfico de $f(x)$ é igual a 1, pois f(x) é uma fdp. Esta propriedade vale para quaisquer valores de $\\mu$ e de $\\sigma$.\n",
        "\n",
        "* Já a área sob o gráfico de f(x) em um dado intervalo $[a,b]$ representa a probabilidade (essencialmente, a proporção de casos ou freqüência relativa) no intervalo $[a,b]$."
      ]
    },
    {
      "cell_type": "markdown",
      "metadata": {
        "id": "oY-tFzQGbaeS"
      },
      "source": [
        "Os exemplos a seguir exibem gráficos de diferentes funções de densidade normal para algumas combinações dos parâmetros $\\mu$ e $\\sigma$. Para isso iremos utilizar o pacote `norm` da biblioteca [scipy](https://www.scipy.org/).\n"
      ]
    },
    {
      "cell_type": "code",
      "metadata": {
        "id": "0N1EQmzCZ5h_"
      },
      "source": [
        "from scipy.stats import norm\n",
        "import numpy as np\n",
        "import matplotlib.pyplot as plt"
      ],
      "execution_count": null,
      "outputs": []
    },
    {
      "cell_type": "markdown",
      "metadata": {
        "id": "LOA3ZVAkbxiD"
      },
      "source": [
        "Para entender a geração dos gráficos abaixo, você deve primeiro entender o funcionamento da função `linspace` do numpy. Veja o exemplo abaixo."
      ]
    },
    {
      "cell_type": "code",
      "metadata": {
        "id": "aztzUo9mleVg",
        "colab": {
          "base_uri": "https://localhost:8080/"
        },
        "outputId": "ef9f70cf-1d2f-4a40-93d1-6207c99d8a3a"
      },
      "source": [
        "x = np.linspace(-10, 10, 30)\n",
        "print(x)"
      ],
      "execution_count": null,
      "outputs": [
        {
          "output_type": "stream",
          "text": [
            "[-10.          -9.31034483  -8.62068966  -7.93103448  -7.24137931\n",
            "  -6.55172414  -5.86206897  -5.17241379  -4.48275862  -3.79310345\n",
            "  -3.10344828  -2.4137931   -1.72413793  -1.03448276  -0.34482759\n",
            "   0.34482759   1.03448276   1.72413793   2.4137931    3.10344828\n",
            "   3.79310345   4.48275862   5.17241379   5.86206897   6.55172414\n",
            "   7.24137931   7.93103448   8.62068966   9.31034483  10.        ]\n"
          ],
          "name": "stdout"
        }
      ]
    },
    {
      "cell_type": "code",
      "metadata": {
        "colab": {
          "base_uri": "https://localhost:8080/"
        },
        "id": "Nr3rVc9jIZQy",
        "outputId": "2343251d-4b94-46cf-9898-ab2176ce3112"
      },
      "source": [
        "x = np.linspace(1, 27, 10)\n",
        "print(x)"
      ],
      "execution_count": null,
      "outputs": [
        {
          "output_type": "stream",
          "text": [
            "[ 1.          3.88888889  6.77777778  9.66666667 12.55555556 15.44444444\n",
            " 18.33333333 21.22222222 24.11111111 27.        ]\n"
          ],
          "name": "stdout"
        }
      ]
    },
    {
      "cell_type": "markdown",
      "metadata": {
        "id": "k-vIOnL_bQ00"
      },
      "source": [
        "Você deve também entender a função [norm.pdf](https://docs.scipy.org/doc/scipy/reference/generated/scipy.stats.norm.html).\n",
        "\n",
        "PDF = probability density function."
      ]
    },
    {
      "cell_type": "code",
      "metadata": {
        "id": "TJMHWWqBnkmO",
        "colab": {
          "base_uri": "https://localhost:8080/"
        },
        "outputId": "31ec99a2-c5b9-4b42-b829-569033535b9e"
      },
      "source": [
        "norm.pdf(0, scale=1, loc=0) # scale = variância, loc = média"
      ],
      "execution_count": null,
      "outputs": [
        {
          "output_type": "execute_result",
          "data": {
            "text/plain": [
              "0.3989422804014327"
            ]
          },
          "metadata": {
            "tags": []
          },
          "execution_count": 5
        }
      ]
    },
    {
      "cell_type": "code",
      "metadata": {
        "colab": {
          "base_uri": "https://localhost:8080/"
        },
        "id": "WlTgHclSIvxX",
        "outputId": "fcd486f5-812e-4dc4-e7fc-4d965767c7fa"
      },
      "source": [
        "norm.pdf(1, scale=1, loc=0) # scale = variância, loc = média"
      ],
      "execution_count": null,
      "outputs": [
        {
          "output_type": "execute_result",
          "data": {
            "text/plain": [
              "0.24197072451914337"
            ]
          },
          "metadata": {
            "tags": []
          },
          "execution_count": 13
        }
      ]
    },
    {
      "cell_type": "code",
      "metadata": {
        "colab": {
          "base_uri": "https://localhost:8080/"
        },
        "id": "cVEJIWlEI7pz",
        "outputId": "0d403876-e0ad-4caf-cd7d-c0f1d4ba8462"
      },
      "source": [
        "norm.pdf(-1, scale=1, loc=0) # scale = variância, loc = média"
      ],
      "execution_count": null,
      "outputs": [
        {
          "output_type": "execute_result",
          "data": {
            "text/plain": [
              "0.24197072451914337"
            ]
          },
          "metadata": {
            "tags": []
          },
          "execution_count": 14
        }
      ]
    },
    {
      "cell_type": "code",
      "metadata": {
        "colab": {
          "base_uri": "https://localhost:8080/"
        },
        "id": "odLKuSHGJEc5",
        "outputId": "91af0ace-07f6-4289-951d-aa145ad14f3d"
      },
      "source": [
        "norm.pdf(3, scale=1, loc=0) # scale = variância, loc = média"
      ],
      "execution_count": null,
      "outputs": [
        {
          "output_type": "execute_result",
          "data": {
            "text/plain": [
              "0.0044318484119380075"
            ]
          },
          "metadata": {
            "tags": []
          },
          "execution_count": 15
        }
      ]
    },
    {
      "cell_type": "markdown",
      "metadata": {
        "id": "Yslmj16abgb0"
      },
      "source": [
        "Agora vamos gerar os gráficos para 4 variáveis aleatórias normais, de mesma média e diferentes variâncias."
      ]
    },
    {
      "cell_type": "code",
      "metadata": {
        "id": "LkUwLoK3aKYM",
        "colab": {
          "base_uri": "https://localhost:8080/",
          "height": 295
        },
        "outputId": "520b4083-e3aa-498e-eb00-c101924bd2a4"
      },
      "source": [
        "ig, ax = plt.subplots()\n",
        "x = np.linspace(-10,10,100)\n",
        "stdvs = [1.0, 2.0, 3.0, 4.0]\n",
        "for s in stdvs:\n",
        "    ax.plot(x, norm.pdf(x,scale=s), label='stdv=%.1f' % s)\n",
        "\n",
        "ax.set_xlabel('x')\n",
        "ax.set_ylabel('pdf(x)')\n",
        "ax.set_title('Normal Distribution')\n",
        "ax.legend(loc='best', frameon=True)\n",
        "ax.set_ylim(0,0.45)\n",
        "ax.grid(True)"
      ],
      "execution_count": null,
      "outputs": [
        {
          "output_type": "display_data",
          "data": {
            "image/png": "[encoded data removed]",
            "text/plain": [
              "<Figure size 432x288 with 1 Axes>"
            ]
          },
          "metadata": {
            "tags": []
          }
        }
      ]
    },
    {
      "cell_type": "markdown",
      "metadata": {
        "id": "ErzGNdZBb2TB"
      },
      "source": [
        "No exemplo acima, note que\n",
        "\n",
        "- aumentar o valor de $\\sigma$ tem o efeito de *achatar* a curva. Isso faz sentido pois, em todos os casos, a área abaixo da curva deve permanecer igual a 1.\n",
        "\n",
        "- mudar o valor de $\\mu$ tem o efeito de transladar a curva para a esquerda ou para a direita, mantendo sua forma."
      ]
    },
    {
      "cell_type": "markdown",
      "metadata": {
        "id": "45SzK7E8bwZL"
      },
      "source": [
        "O próximo exemplo gera gráficos para outras variáveis aleatórias normais, dessa vez com mesma variância e médias diferentes."
      ]
    },
    {
      "cell_type": "code",
      "metadata": {
        "id": "_woPCtB9abjw",
        "colab": {
          "base_uri": "https://localhost:8080/",
          "height": 295
        },
        "outputId": "8b83618c-d2b8-42a5-e86e-d5bbddb9674a"
      },
      "source": [
        "fig, ax = plt.subplots()\n",
        "x = np.linspace(-10,10,100)\n",
        "means = [0.0, 1.0, 2.0, 5.0]\n",
        "for mean in means:\n",
        "    ax.plot(x, norm.pdf(x,loc=mean), label='mean=%.1f' % mean)\n",
        "\n",
        "ax.set_xlabel('x')\n",
        "ax.set_ylabel('pdf(x)')\n",
        "ax.set_title('Normal Distribution')\n",
        "ax.legend(loc='best', frameon=True)\n",
        "ax.set_ylim(0,0.45)\n",
        "ax.grid(True)"
      ],
      "execution_count": null,
      "outputs": [
        {
          "output_type": "display_data",
          "data": {
            "image/png": "[encoded data removed]",
            "text/plain": [
              "<Figure size 432x288 with 1 Axes>"
            ]
          },
          "metadata": {
            "tags": [],
            "needs_background": "light"
          }
        }
      ]
    },
    {
      "cell_type": "markdown",
      "metadata": {
        "id": "tOwVAamnc6x8"
      },
      "source": [
        "Outra função que iremos usar bastante é para gerar valores aleatórios de uma variável que segue a distribuição normal. Isso pode feito por meio da função `norm.rvs`."
      ]
    },
    {
      "cell_type": "code",
      "metadata": {
        "id": "cv74ymehpZ-s",
        "colab": {
          "base_uri": "https://localhost:8080/"
        },
        "outputId": "f1e326d0-7386-4205-9112-0f8058026ee2"
      },
      "source": [
        "norm.rvs(scale=5, loc=10, size=3)"
      ],
      "execution_count": null,
      "outputs": [
        {
          "output_type": "execute_result",
          "data": {
            "text/plain": [
              "array([19.95537967,  6.81104017, 12.50724661])"
            ]
          },
          "metadata": {
            "tags": []
          },
          "execution_count": 21
        }
      ]
    },
    {
      "cell_type": "markdown",
      "metadata": {
        "id": "u3GTUqRQcFfk"
      },
      "source": [
        "O exemplo a seguir gera vários valores de uma variável aleatória normal e apresenta esses valores graficamente na forma de um histograma (a função de densidade também é apresentada no mesmo gráfico)."
      ]
    },
    {
      "cell_type": "code",
      "metadata": {
        "id": "OW3eMHcKaodt",
        "colab": {
          "base_uri": "https://localhost:8080/",
          "height": 295
        },
        "outputId": "d418568d-5504-41f4-ee37-e23d2c1dd5d5"
      },
      "source": [
        "fig, ax = plt.subplots()\n",
        "xs = norm.rvs(scale=2,loc=0,size=100000)\n",
        "x = np.linspace(-10,10,10000)\n",
        "p = norm.pdf(x, scale=2)\n",
        "v = np.var(xs)\n",
        "m = np.mean(xs)\n",
        "ax = fig.add_subplot(111)\n",
        "ax.hist(xs, bins=100, alpha=0.5, density=True)\n",
        "ax.plot(x, p, 'r-', lw=2)\n",
        "ax.set_xlabel('x')\n",
        "ax.set_ylabel('pdf(x)')\n",
        "ax.set_title(f'mean={m:.2f}, var={v:.2f}')\n",
        "ax.grid(True)"
      ],
      "execution_count": null,
      "outputs": [
        {
          "output_type": "display_data",
          "data": {
            "image/png": "[encoded data removed]",
            "text/plain": [
              "<Figure size 432x288 with 2 Axes>"
            ]
          },
          "metadata": {
            "tags": [],
            "needs_background": "light"
          }
        }
      ]
    },
    {
      "cell_type": "markdown",
      "metadata": {
        "id": "lNf3pmO8eOCg"
      },
      "source": [
        "## Função de distribuição acumulada (*cumulative distribution function*)"
      ]
    },
    {
      "cell_type": "markdown",
      "metadata": {
        "id": "r_6R8gpDbPeC"
      },
      "source": [
        "A função de distribuição acumulada $F(X)$ de uma v.a. normal não possui uma forma fechada. De todo modo, podemos usar a função noarm.cdf para computar essa função. Veja o exemplo a seguir.\n",
        "\n",
        "CDF = cumulative distribution function"
      ]
    },
    {
      "cell_type": "markdown",
      "metadata": {
        "id": "TytMB3_bMmEN"
      },
      "source": []
    },
    {
      "cell_type": "code",
      "metadata": {
        "colab": {
          "base_uri": "https://localhost:8080/"
        },
        "id": "V2KI3lKQMn7M",
        "outputId": "a0e19d82-ffbe-4b70-ac04-407c55d1994b"
      },
      "source": [
        "norm.cdf(2.4, scale=2)"
      ],
      "execution_count": null,
      "outputs": [
        {
          "output_type": "execute_result",
          "data": {
            "text/plain": [
              "0.8849303297782918"
            ]
          },
          "metadata": {
            "tags": []
          },
          "execution_count": 31
        }
      ]
    },
    {
      "cell_type": "code",
      "metadata": {
        "id": "OQy8vBaEc5SO",
        "colab": {
          "base_uri": "https://localhost:8080/",
          "height": 265
        },
        "outputId": "5ca5eb3e-6289-40b9-e421-51dae9506480"
      },
      "source": [
        "x = np.linspace(-5, 5, 10000)\n",
        "\n",
        "# vectorization\n",
        "cdf_values = norm.cdf(x, scale=2)\n",
        "pdf_values = norm.pdf(x, scale=2)\n",
        "\n",
        "#plt.plot(x, pdf_values, x, cdf_values)\n",
        "\n",
        "plt.plot(x, pdf_values, '-b', label='pdf')\n",
        "plt.plot(x, cdf_values, '--r', label='cdf')\n",
        "\n",
        "plt.grid(True)\n",
        "\n",
        "plt.legend(loc='upper left', frameon=False)\n",
        "\n",
        "plt.show()"
      ],
      "execution_count": null,
      "outputs": [
        {
          "output_type": "display_data",
          "data": {
            "image/png": "[encoded data removed]",
            "text/plain": [
              "<Figure size 432x288 with 1 Axes>"
            ]
          },
          "metadata": {
            "tags": [],
            "needs_background": "light"
          }
        }
      ]
    },
    {
      "cell_type": "markdown",
      "metadata": {
        "id": "B8V5_j5Aesbu"
      },
      "source": [
        "## Distribuição normal padrão (*standard normal distribution*)"
      ]
    },
    {
      "cell_type": "markdown",
      "metadata": {
        "id": "JA_6mTRkr4J5"
      },
      "source": [
        "Damos o nome de **distribuição normal padrão** (*standard normal distribution*) à distribuição normal com média $\\mu = 0$ e desvio-padrão $\\sigma = 1$.\n",
        "\n",
        "As funções de densidade e de distribuição acumulada para este caso são identificadas pelo uso das letras gregas $\\phi$ e $\\Phi$, respectivamente, no lugar dos usuais $f$ e $F$.\n",
        "\n",
        "Escrevemos $X \\sim N(\\mu, \\sigma^2)$ para denotar que uma variável aleatória $X$ segue distribuição normal de média $\\mu$ e variância $\\sigma^2$.\n",
        "\n",
        "Em particular, se uma variável aleatória $Z$ tem distribuição normal padrão, então usamos $Z \\sim N(0, 1)$."
      ]
    },
    {
      "cell_type": "code",
      "metadata": {
        "id": "HU57fD6MaCIP",
        "colab": {
          "base_uri": "https://localhost:8080/",
          "height": 299
        },
        "outputId": "0e7737c1-280b-44f2-e30e-e22872b652c3"
      },
      "source": [
        "fig, ax = plt.subplots()\n",
        "x= np.arange(-4,4,0.001)\n",
        "ax.set_title('N(0,$1^2$)')\n",
        "ax.set_xlabel('x')\n",
        "ax.set_ylabel('f(x)')\n",
        "ax.plot(x, norm.pdf(x))\n",
        "ax.set_ylim(0,0.45)\n",
        "plt.show()"
      ],
      "execution_count": null,
      "outputs": [
        {
          "output_type": "display_data",
          "data": {
            "image/png": "[encoded data removed]",
            "text/plain": [
              "<Figure size 432x288 with 1 Axes>"
            ]
          },
          "metadata": {
            "tags": []
          }
        }
      ]
    },
    {
      "cell_type": "markdown",
      "metadata": {
        "id": "px7m7GnZf4RK"
      },
      "source": [
        "## Regra empírica (*empirical rule*)"
      ]
    },
    {
      "cell_type": "markdown",
      "metadata": {
        "id": "kMeeFmHNeoMK"
      },
      "source": [
        "Os valores apresentados a seguir representam as probabilidades de se encontrar um valor de uma variável aleatória normal $X$ na faixa respectiva.\n",
        "* 0,6827 ou 68,27\\% para a faixa $\\mu \\pm 1 \\times \\sigma$\n",
        "* 0,9545 ou 95,45\\% para a faixa $\\mu \\pm 2 \\times \\sigma$\n",
        "* 0,9973 ou 99,73\\% para a faixa $\\mu \\pm 3 \\times \\sigma$\n",
        "\n",
        "Se $X \\sim N(\\mu, \\sigma^{2})$, a faixa $\\mu \\pm 3 \\times \\sigma$, ocorre a quase totalidade (99,73\\%) dos valores. Por esse motivo, o valor $6\\sigma$ é denominado *largura da distribuição normal*.\n",
        "\n",
        "![alt text](https://upload.wikimedia.org/wikipedia/commons/a/a9/Empirical_Rule.PNG)"
      ]
    },
    {
      "cell_type": "markdown",
      "metadata": {
        "id": "2I9gYCALqIac"
      },
      "source": [
        "As probabilidades associadas a distribuições gaussianas são obtidas de 2 maneiras alternativas:\n",
        "\n",
        " * Se as probabilidades são necessárias como parte de um programa de computador, a integral de\t$f(x)$ pode ser resolvida por algoritmos de cálculo numérico.\n",
        " * Se apenas algumas probabilidades são necessárias, então podemos fazer uso de **tabelas** para calculá-las. Essas tabelas são encontradas na maioria dos livros de estatística, e apresentam valores para $F(x) = \\Pr(X < x)$.\n",
        "\n",
        "* De acordo com as propriedades gerais aplicáveis a uma função de densidade qualquer,\n",
        " 1. a área total sob a curva é igual a $1$ porque indica a probabilidade de todo o espaço amostral.\n",
        " 2. a área sob a curva entre dois valores quaisquer de $X$ indica a probabilidade de seu valor estar entre esses valores.\n",
        "\n",
        "*\tA análise da curva normal nos permite concluir que as ocorrências de $X$ tendem a se concentrar em torno de $\\mu$ e se tornam mais raras (i.e., menos prováveis) na medida em que dela se afastam."
      ]
    },
    {
      "cell_type": "markdown",
      "metadata": {
        "id": "Y5-rrRCYq0Kc"
      },
      "source": [
        "Por meio de [integração numérica](https://en.wikipedia.org/wiki/Numerical_integration) da função de densidade normal, é possível calcular a probabilidade de ocorrência em função do afastamento da média segundo o número de desvios-padrão."
      ]
    },
    {
      "cell_type": "markdown",
      "metadata": {
        "id": "FmrWLaBzmUMU"
      },
      "source": [
        "## Exercícios"
      ]
    },
    {
      "cell_type": "markdown",
      "metadata": {
        "id": "ODTZLpvmsa08"
      },
      "source": [
        "E01 (Montgomery, pp. 112): Seja $Z \\sim N(0, 1)$. Calcule\n",
        "\n",
        "1.\t$\\Pr(Z < -0,86)$\n",
        "2.\t$\\Pr(Z > 1,26)$\n",
        "3.\t$\\Pr(Z > -1,37)$\n",
        "4.\t$\\Pr(-1,25<Z<0,37)$\n",
        "5.\t$\\Pr(Z<-4,6)$"
      ]
    },
    {
      "cell_type": "markdown",
      "metadata": {
        "id": "5QPl_qzMCZJ9"
      },
      "source": [
        "$$\n",
        "f(x) \\rightarrow \\text{norm.pdf}\n",
        "$$\n",
        "\n",
        "$$\n",
        "F(x) = \\Pr(X \\leq x) \\rightarrow \\text{norm.cdf}\n",
        "$$\n",
        "\n"
      ]
    },
    {
      "cell_type": "code",
      "metadata": {
        "id": "6kPaujMX8Iqb",
        "colab": {
          "base_uri": "https://localhost:8080/"
        },
        "outputId": "781b7003-2e2d-4438-9ab2-88d1ebf78655"
      },
      "source": [
        "#E01.1\n",
        "#cdf --> cumulative distribution function\n",
        "from scipy.stats import norm\n",
        "x = -.86\n",
        "cdf_value = norm.cdf(x)\n",
        "print(cdf_value)"
      ],
      "execution_count": null,
      "outputs": [
        {
          "output_type": "stream",
          "text": [
            "0.1948945212518084\n"
          ],
          "name": "stdout"
        }
      ]
    },
    {
      "cell_type": "markdown",
      "metadata": {
        "id": "fxc53seMDIfk"
      },
      "source": [
        "$$\n",
        "\\Pr(Z> 1.26) = 1 - \\Pr(Z \\leq 1.26)\n",
        "$$"
      ]
    },
    {
      "cell_type": "code",
      "metadata": {
        "id": "U3xc0qkxB7G1",
        "colab": {
          "base_uri": "https://localhost:8080/",
          "height": 35
        },
        "outputId": "a8d0270b-1b6a-41f3-e2f5-19c876e89096"
      },
      "source": [
        "# E01.2\n",
        "# Pr(𝑍 > 1,26)\n",
        "from scipy.stats import norm\n",
        "x = 1.26\n",
        "cdf_value = 1 - norm.cdf(x)\n",
        "print(cdf_value)"
      ],
      "execution_count": null,
      "outputs": [
        {
          "output_type": "stream",
          "text": [
            "0.10383468112130045\n"
          ],
          "name": "stdout"
        }
      ]
    },
    {
      "cell_type": "code",
      "metadata": {
        "id": "o85a_h6iCa7r",
        "colab": {
          "base_uri": "https://localhost:8080/",
          "height": 52
        },
        "outputId": "30fcc4e5-e791-4c9d-d0ef-72384a02bf5b"
      },
      "source": [
        "# E01.3\n",
        "# Pr(𝑍 > −1,37)\n",
        "from scipy.stats import norm\n",
        "x = -1.37\n",
        "cdf_value = 1 - norm.cdf(x)\n",
        "print(cdf_value)\n",
        "print(norm.cdf(x)+cdf_value)"
      ],
      "execution_count": null,
      "outputs": [
        {
          "output_type": "stream",
          "text": [
            "0.914656549178033\n",
            "1.0\n"
          ],
          "name": "stdout"
        }
      ]
    },
    {
      "cell_type": "markdown",
      "metadata": {
        "id": "aC97XUDMDwVG"
      },
      "source": [
        "$$\n",
        "Pr(−1.25<𝑍<0.37) = \\Pr(Z<0.37) - \\Pr(Z<-1.25)\n",
        "$$"
      ]
    },
    {
      "cell_type": "code",
      "metadata": {
        "id": "Q9Y56CrzDgsG",
        "colab": {
          "base_uri": "https://localhost:8080/",
          "height": 35
        },
        "outputId": "a7487ffb-795f-4727-e52c-4b689dbecdeb"
      },
      "source": [
        "# Pr(−1,25<𝑍<0,37)\n",
        "from scipy.stats import norm\n",
        "\n",
        "cdf_value1 = norm.cdf(-1.25)\n",
        "cdf_value2 = norm.cdf(.37)\n",
        "\n",
        "print(cdf_value2 - cdf_value1)"
      ],
      "execution_count": null,
      "outputs": [
        {
          "output_type": "stream",
          "text": [
            "0.5386589811336914\n"
          ],
          "name": "stdout"
        }
      ]
    },
    {
      "cell_type": "code",
      "metadata": {
        "id": "KNCqq_1TEGY2",
        "colab": {
          "base_uri": "https://localhost:8080/",
          "height": 35
        },
        "outputId": "3a067066-0db0-4d64-fbe2-d50128bd9334"
      },
      "source": [
        "# Pr(𝑍<−4,6)\n",
        "from scipy.stats import norm\n",
        "cdf_value1 = norm.cdf(-4.6)\n",
        "print(cdf_value1)"
      ],
      "execution_count": null,
      "outputs": [
        {
          "output_type": "stream",
          "text": [
            "2.1124547025028537e-06\n"
          ],
          "name": "stdout"
        }
      ]
    },
    {
      "cell_type": "markdown",
      "metadata": {
        "id": "MO9YJU1csvGv"
      },
      "source": [
        "Resposta (E01):\n",
        "\n",
        "1.\t$\\Pr(Z < -0,86) = 0,1949$.\n",
        "2.\t$\\Pr(Z > 1,26) = 1 - \\Pr(Z \\leq 1,26) = 1 - 0,8962 = 0,1038$.\n",
        "3.\t$\\Pr(Z > -1,37) = \\Pr(Z < 1,37) = 0,9147$.\n",
        "4.\t$\\Pr(-1,25 < Z < 0,37) = \\Pr(Z < 0.37) - \\Pr(Z < -1.25) = 0,6443 - 0,1056 = 0,5387$.\n"
      ]
    },
    {
      "cell_type": "markdown",
      "metadata": {
        "id": "GLH3fSpKtRQt"
      },
      "source": [
        "E02: Seja $Z \\sim N(0, 1)$. Encontre o valor $z$ tal que $\\Pr(Z>z) = 0,05$."
      ]
    },
    {
      "cell_type": "markdown",
      "metadata": {
        "id": "nMdJLLInsvcB"
      },
      "source": [
        "\n",
        "Resposta (E02):\n",
        "Esse problema pode ser reformulado para determinar o valor z tal que $\\Pr(Z \\leq z) = 0,95$. Agora a tabela de probabilidades é usada ao contrário: procuramos até encontrar o valor que corresponde a $0,95$. Resposta: $z = 1,65$."
      ]
    },
    {
      "cell_type": "markdown",
      "metadata": {
        "id": "Gw0JRsAzt3Ha"
      },
      "source": [
        "E03: Seja $Z \\sim N(0, 1)$. Encontre o valor z tal que $\\Pr(-z < Z < z) = 0,99$."
      ]
    },
    {
      "cell_type": "markdown",
      "metadata": {
        "id": "7xgr707xt_bF"
      },
      "source": [
        "Resposta (E03): Por conta da simetria da distribuição normal, se a área da região sombreada na figura for igual a $0,99$, então área total de cada região não sombreada é igual a $(1-0,99)/2=0,005$. Logo o valor de $z$ corresponde a uma probabilidade de 0,995 na tabela. A probabilidade mais próxima é $0,99506$, quando $z = 2,58$."
      ]
    },
    {
      "cell_type": "markdown",
      "metadata": {
        "id": "aNOxxyuVF2mP"
      },
      "source": [
        "E04\n",
        "Seja X ~ N(5, 2)\n",
        "Calcule Pr(X > 0)"
      ]
    },
    {
      "cell_type": "code",
      "metadata": {
        "id": "QBCrEZS8GH66",
        "colab": {
          "base_uri": "https://localhost:8080/",
          "height": 35
        },
        "outputId": "bd3c90b2-2a89-4702-a3e9-2453874f2f45"
      },
      "source": [
        "from scipy.stats import norm\n",
        "cdf_value1 = 1 - norm.cdf(0, scale=2, loc=5)\n",
        "print(cdf_value1)"
      ],
      "execution_count": null,
      "outputs": [
        {
          "output_type": "stream",
          "text": [
            "0.9937903346742238\n"
          ],
          "name": "stdout"
        }
      ]
    },
    {
      "cell_type": "code",
      "metadata": {
        "id": "BPoFOEHIGwMh",
        "colab": {
          "base_uri": "https://localhost:8080/",
          "height": 52
        },
        "outputId": "5ce18dca-030e-4fcd-8957-7f9e5df452ee"
      },
      "source": [
        "z = (0 - 5)/2\n",
        "print(z)\n",
        "cdf_value1 = 1 - norm.cdf(-2.5)\n",
        "print(cdf_value1)"
      ],
      "execution_count": null,
      "outputs": [
        {
          "output_type": "stream",
          "text": [
            "-2.5\n",
            "0.9937903346742238\n"
          ],
          "name": "stdout"
        }
      ]
    },
    {
      "cell_type": "markdown",
      "metadata": {
        "id": "eNHbthJRuN-a"
      },
      "source": [
        "## Padronização"
      ]
    },
    {
      "cell_type": "markdown",
      "metadata": {
        "id": "HlV3Bzwnt3vm"
      },
      "source": [
        "Seja $X$ uma v.a. com distribuição normal genérica, $X \\sim N(\\mu, \\sigma^2)$. Então\n",
        "\t\\begin{equation}\n",
        "\tZ = \\frac{X - \\mu}{\\sigma} \\nonumber\n",
        "\t\\end{equation}\n",
        "\n",
        "é também um variável aleatória e possui distribuição normal padrão, isto é, $Z \\sim N(0, 1)$.\n",
        "  \n",
        "Isso significa que, a partir de valores tabelados da distribuição normal padrão, é possível o cálculo de probabilidades para quaisquer valores dos parâmetros $\\mu$ e $\\sigma^2$ (i.e., para qualquer outra v.a. normal).\n",
        "\n",
        "Esta padronização é conveniente, já que permite o cálculo da função de densidade e da função acumulada de uma distribuição normal qualquer, uma vez que temos acesso aos valores da função de densidade e da função acumulada da distribuição normal padrão. Essas funções são relacionadas da seguinte forma\n",
        "\n",
        "\\begin{equation}\n",
        "    F_X(x) = \\Phi\\bigg(\\frac{x-\\mu}{\\sigma}\\bigg), \\quad f_X(x) = \\frac{1}{\\sigma}\\,\\phi\\bigg(\\frac{x-\\mu}{\\sigma}\\bigg).\n",
        "\\end{equation}"
      ]
    },
    {
      "cell_type": "markdown",
      "metadata": {
        "id": "e-mX75dwnI7Y"
      },
      "source": [
        "## Exercícios"
      ]
    },
    {
      "cell_type": "markdown",
      "metadata": {
        "id": "cy083nPbupHB"
      },
      "source": [
        "E04: as alturas dos alunos de determinada escola são normalmente distribuídas com média 1,6m e desvio padrão 0,30m.\n",
        "\n",
        "1. Encontre a probabilidade de um aluno medir:\n",
        "\t  * entre 1,50m e 1,80m\n",
        "\t  * mais de 1,75m\n",
        "\t  * menos de 1,48m\n",
        "\n",
        "2. Qual deve ser a altura mínima para 10\\% dos mais altos?"
      ]
    },
    {
      "cell_type": "code",
      "metadata": {
        "colab": {
          "base_uri": "https://localhost:8080/"
        },
        "id": "0GD4CTesFx-e",
        "outputId": "3cf59ec5-b066-4273-fa92-aefbb9c79ca7"
      },
      "source": [
        "norm.cdf(1.8, loc = 1.6, scale = 0.3) - norm.cdf(1.5, loc = 1.6, scale = 0.3)"
      ],
      "execution_count": null,
      "outputs": [
        {
          "output_type": "execute_result",
          "data": {
            "text/plain": [
              "0.3780661222713136"
            ]
          },
          "metadata": {
            "tags": []
          },
          "execution_count": 36
        }
      ]
    },
    {
      "cell_type": "markdown",
      "metadata": {
        "id": "NNZ6FRSKu9On"
      },
      "source": [
        "Resposta - exemplo 04: Primeiro, note que\n",
        "\t\\begin{equation}\n",
        "\t\tz_1 = \\frac{x_1-\\mu}{\\sigma} = \\frac{1,50-1,60}{0,3} = -0,33\n",
        "\t\\end{equation}\n",
        "e que\n",
        "\t\\begin{equation}\n",
        "\t\tz_2 = \\frac{x_2-\\mu}{\\sigma} = \\frac{1,80-1,60}{0,3} = 0,67.\n",
        "\t\\end{equation}\n",
        "Então\n",
        "\t\\begin{align}\n",
        "\t\t\\Pr(x_1 < X < x_2) = \\Pr(z_1 < Z < z_2) &= \\nonumber \\\\\n",
        "\t\t\\Pr(-0.33 < Z < 0.67) = \\Pr(Z < 0.67) - \\Pr(Z < -0,33) &=  \\nonumber \\\\\n",
        "\t\t0,7486 - 0,3707 &= \\nonumber \\\\\n",
        "\t\t0,3779 = 37,79\\%. \\nonumber\n",
        "\t\\end{align}"
      ]
    },
    {
      "cell_type": "code",
      "metadata": {
        "colab": {
          "base_uri": "https://localhost:8080/"
        },
        "id": "txbqEilTHCSQ",
        "outputId": "622096f8-bd57-434c-99e6-d3ddacd013e7"
      },
      "source": [
        "norm.cdf(0.67, loc = 0, scale = 1) - norm.cdf(-.33, loc = 0, scale = 1)"
      ],
      "execution_count": null,
      "outputs": [
        {
          "output_type": "execute_result",
          "data": {
            "text/plain": [
              "0.3778711238453435"
            ]
          },
          "metadata": {
            "tags": []
          },
          "execution_count": 37
        }
      ]
    },
    {
      "cell_type": "code",
      "metadata": {
        "colab": {
          "base_uri": "https://localhost:8080/"
        },
        "id": "Hkqn2Zv6JBc_",
        "outputId": "b7ee0f26-b7b7-43c6-965d-d91f2cf437f6"
      },
      "source": [
        "norm.ppf(.9, loc = 1.6, scale = .3)"
      ],
      "execution_count": null,
      "outputs": [
        {
          "output_type": "execute_result",
          "data": {
            "text/plain": [
              "1.98446546966338"
            ]
          },
          "metadata": {
            "tags": []
          },
          "execution_count": 41
        }
      ]
    },
    {
      "cell_type": "markdown",
      "metadata": {
        "id": "0BK3k3Qh4mcF"
      },
      "source": [
        "## Funções relevantes no pacote [scipy.norms](https://docs.scipy.org/doc/scipy/reference/generated/scipy.stats.norm.html)\n",
        "\n",
        "Methods\n",
        "\n",
        "* rvs(loc=0, scale=1, size=1, random_state=None) --> Random variates.\n",
        "\n",
        "* pdf(x, loc=0, scale=1) --> Probability density function.\n",
        "\n",
        "* logpdf(x, loc=0, scale=1) --> Log of the probability density function.\n",
        "\n",
        "* cdf(x, loc=0, scale=1) --> Cumulative distribution function.\n",
        "\n",
        "* logcdf(x, loc=0, scale=1) --> Log of the cumulative distribution function.\n",
        "\n",
        "* sf(x, loc=0, scale=1)\n",
        " --> Survival function (also defined as 1 - cdf, but sf is sometimes more accurate).\n",
        "\n",
        "* logsf(x, loc=0, scale=1) --> Log of the survival function.\n",
        "\n",
        "* ppf(q, loc=0, scale=1) --> Percent point function (inverse of cdf — percentiles).\n",
        "\n",
        "* isf(q, loc=0, scale=1) --> Inverse survival function (inverse of sf).\n",
        "\n",
        "* moment(n, loc=0, scale=1) --> Non-central moment of order n\n",
        "\n",
        "* stats(loc=0, scale=1, moments=’mv’) --> Mean(‘m’), variance(‘v’), skew(‘s’), and/or kurtosis(‘k’).\n",
        "\n",
        "* entropy(loc=0, scale=1) --> (Differential) entropy of the RV.\n",
        "\n",
        "* fit(data, loc=0, scale=1) --> Parameter estimates for generic data.\n",
        "\n",
        "* expect(func, args=(), loc=0, scale=1, lb=None, ub=None, conditional=False, **kwds) --> Expected value of a function (of one argument) with respect to the distribution.\n",
        "\n",
        "* median(loc=0, scale=1) --> Median of the distribution.\n",
        "\n",
        "* mean(loc=0, scale=1) --> Mean of the distribution.\n",
        "\n",
        "* var(loc=0, scale=1) --> Variance of the distribution.\n",
        "\n",
        "* std(loc=0, scale=1) --> Standard deviation of the distribution.\n",
        "\n",
        "* interval(alpha, loc=0, scale=1) --> Endpoints of the range that contains alpha percent of the distribution"
      ]
    },
    {
      "cell_type": "code",
      "source": [
        "from scipy.stats import norm\n",
        "norm.cdf(1) - norm.cdf(-1)"
      ],
      "metadata": {
        "colab": {
          "base_uri": "https://localhost:8080/"
        },
        "id": "f-VxXtwlaWwc",
        "outputId": "c2733ccc-8b78-422b-9d8b-96a23d549401"
      },
      "execution_count": null,
      "outputs": [
        {
          "output_type": "execute_result",
          "data": {
            "text/plain": [
              "0.6826894921370859"
            ]
          },
          "metadata": {},
          "execution_count": 8
        }
      ]
    }
  ]
}