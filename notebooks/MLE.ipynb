{
  "nbformat": 4,
  "nbformat_minor": 0,
  "metadata": {
    "colab": {
      "provenance": []
    },
    "kernelspec": {
      "name": "python3",
      "display_name": "Python 3"
    },
    "language_info": {
      "name": "python"
    }
  },
  "cells": [
    {
      "cell_type": "markdown",
      "source": [
        "## Função de verosimilhança para v.a. binomial"
      ],
      "metadata": {
        "id": "yhx3Io8UF9xH"
      }
    },
    {
      "cell_type": "code",
      "execution_count": null,
      "metadata": {
        "colab": {
          "base_uri": "https://localhost:8080/",
          "height": 298
        },
        "id": "1PgGsdkmEprb",
        "outputId": "4ac48cb2-9321-42f5-a35f-347e340836a0"
      },
      "outputs": [
        {
          "output_type": "stream",
          "name": "stderr",
          "text": [
            "No handles with labels found to put in legend.\n"
          ]
        },
        {
          "output_type": "display_data",
          "data": {
            "text/plain": [
              "<Figure size 432x288 with 1 Axes>"
            ],
            "image/png": "[encoded data removed]"
          },
          "metadata": {
            "needs_background": "light"
          }
        }
      ],
      "source": [
        "import matplotlib.pyplot as plt\n",
        "import numpy as np\n",
        "\n",
        "# 100 linearly spaced numbers\n",
        "theta = np.linspace(0,1,100)\n",
        "\n",
        "# the function, which is y = sin(x) here\n",
        "L = 27 * theta**8 * (1-theta)**4\n",
        "\n",
        "# setting the axes at the centre\n",
        "fig = plt.figure()\n",
        "ax = fig.add_subplot(1, 1, 1)\n",
        "ax.xaxis.set_ticks_position('bottom')\n",
        "ax.yaxis.set_ticks_position('left')\n",
        "\n",
        "plt.legend(frameon=False, loc=2)\n",
        "plt.xlabel(r'$\\theta$')\n",
        "plt.ylabel(r'$L(\\theta)$')\n",
        "\n",
        "# plot the function\n",
        "plt.plot(theta, L, 'b')\n",
        "\n",
        "# show the plot\n",
        "plt.show()"
      ]
    },
    {
      "cell_type": "markdown",
      "source": [
        "## Função de verosimilhança para v.a. exponencial"
      ],
      "metadata": {
        "id": "Z4itY0wKGHEY"
      }
    },
    {
      "cell_type": "code",
      "source": [
        "import matplotlib.pyplot as plt\n",
        "import numpy as np\n",
        "import math\n",
        "\n",
        "# 100 linearly spaced numbers\n",
        "theta = np.linspace(0,10,100)\n",
        "\n",
        "# the function, which is y = sin(x) here\n",
        "L = theta**4 * math.e**(-8.65*theta)\n",
        "\n",
        "# setting the axes at the centre\n",
        "fig = plt.figure()\n",
        "ax = fig.add_subplot(1, 1, 1)\n",
        "ax.xaxis.set_ticks_position('bottom')\n",
        "ax.yaxis.set_ticks_position('left')\n",
        "\n",
        "plt.legend(frameon=False, loc=2)\n",
        "plt.xlabel(r'$\\theta$')\n",
        "plt.ylabel(r'$L(\\theta)$')\n",
        "\n",
        "# plot the function\n",
        "plt.plot(theta, L, 'b')\n",
        "\n",
        "# show the plot\n",
        "plt.show()"
      ],
      "metadata": {
        "colab": {
          "base_uri": "https://localhost:8080/",
          "height": 298
        },
        "id": "Xw1l1unbF7MN",
        "outputId": "74b41439-1003-4205-a076-7f131d81b311"
      },
      "execution_count": null,
      "outputs": [
        {
          "output_type": "stream",
          "name": "stderr",
          "text": [
            "No handles with labels found to put in legend.\n"
          ]
        },
        {
          "output_type": "display_data",
          "data": {
            "text/plain": [
              "<Figure size 432x288 with 1 Axes>"
            ],
            "image/png": "[encoded data removed]"
          },
          "metadata": {
            "needs_background": "light"
          }
        }
      ]
    },
    {
      "cell_type": "markdown",
      "source": [],
      "metadata": {
        "id": "MEcG5hxdKZUr"
      }
    }
  ]
}