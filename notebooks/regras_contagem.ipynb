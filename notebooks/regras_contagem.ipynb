{
  "nbformat": 4,
  "nbformat_minor": 0,
  "metadata": {
    "colab": {
      "provenance": []
    },
    "kernelspec": {
      "name": "python3",
      "display_name": "Python 3"
    },
    "language_info": {
      "name": "python"
    }
  },
  "cells": [
    {
      "cell_type": "code",
      "execution_count": null,
      "metadata": {
        "colab": {
          "base_uri": "https://localhost:8080/"
        },
        "id": "iU84tHmDL9Dt",
        "outputId": "15a9b5cc-a86c-40b9-ddd2-9243ce7c296f"
      },
      "outputs": [
        {
          "output_type": "stream",
          "name": "stdout",
          "text": [
            "Distinct permutations count: 20\n"
          ]
        }
      ],
      "source": [
        "from itertools import permutations\n",
        "\n",
        "# Function to count distinct permutations\n",
        "def count_distinct_permutations(string):\n",
        "    # Generate all permutations of the string\n",
        "    all_permutations = permutations(string)\n",
        "\n",
        "    # Use set to store unique permutations\n",
        "    unique_permutations = set(all_permutations)\n",
        "\n",
        "    # Return the count of distinct permutations\n",
        "    return len(unique_permutations)\n",
        "\n",
        "# Main function\n",
        "if __name__ == \"__main__\":\n",
        "    # Input string\n",
        "    input_string = \"CEFEE\"\n",
        "\n",
        "    # Count distinct permutations\n",
        "    distinct_permutations_count = count_distinct_permutations(input_string)\n",
        "\n",
        "    # Print the result\n",
        "    print(\"Distinct permutations count:\", distinct_permutations_count)"
      ]
    },
    {
      "cell_type": "code",
      "source": [
        "perms = permutations(\"CEFET\")\n",
        "for perm in perms:\n",
        "  pretty_perm = \"\".join(perm)\n",
        "  print(pretty_perm)"
      ],
      "metadata": {
        "colab": {
          "base_uri": "https://localhost:8080/"
        },
        "id": "fCMkECq_M0bK",
        "outputId": "84cc9d08-5524-4250-fd04-d5f5988ff519"
      },
      "execution_count": null,
      "outputs": [
        {
          "output_type": "stream",
          "name": "stdout",
          "text": [
            "CEFET\n",
            "CEFTE\n",
            "CEEFT\n",
            "CEETF\n",
            "CETFE\n",
            "CETEF\n",
            "CFEET\n",
            "CFETE\n",
            "CFEET\n",
            "CFETE\n",
            "CFTEE\n",
            "CFTEE\n",
            "CEEFT\n",
            "CEETF\n",
            "CEFET\n",
            "CEFTE\n",
            "CETEF\n",
            "CETFE\n",
            "CTEFE\n",
            "CTEEF\n",
            "CTFEE\n",
            "CTFEE\n",
            "CTEEF\n",
            "CTEFE\n",
            "ECFET\n",
            "ECFTE\n",
            "ECEFT\n",
            "ECETF\n",
            "ECTFE\n",
            "ECTEF\n",
            "EFCET\n",
            "EFCTE\n",
            "EFECT\n",
            "EFETC\n",
            "EFTCE\n",
            "EFTEC\n",
            "EECFT\n",
            "EECTF\n",
            "EEFCT\n",
            "EEFTC\n",
            "EETCF\n",
            "EETFC\n",
            "ETCFE\n",
            "ETCEF\n",
            "ETFCE\n",
            "ETFEC\n",
            "ETECF\n",
            "ETEFC\n",
            "FCEET\n",
            "FCETE\n",
            "FCEET\n",
            "FCETE\n",
            "FCTEE\n",
            "FCTEE\n",
            "FECET\n",
            "FECTE\n",
            "FEECT\n",
            "FEETC\n",
            "FETCE\n",
            "FETEC\n",
            "FECET\n",
            "FECTE\n",
            "FEECT\n",
            "FEETC\n",
            "FETCE\n",
            "FETEC\n",
            "FTCEE\n",
            "FTCEE\n",
            "FTECE\n",
            "FTEEC\n",
            "FTECE\n",
            "FTEEC\n",
            "ECEFT\n",
            "ECETF\n",
            "ECFET\n",
            "ECFTE\n",
            "ECTEF\n",
            "ECTFE\n",
            "EECFT\n",
            "EECTF\n",
            "EEFCT\n",
            "EEFTC\n",
            "EETCF\n",
            "EETFC\n",
            "EFCET\n",
            "EFCTE\n",
            "EFECT\n",
            "EFETC\n",
            "EFTCE\n",
            "EFTEC\n",
            "ETCEF\n",
            "ETCFE\n",
            "ETECF\n",
            "ETEFC\n",
            "ETFCE\n",
            "ETFEC\n",
            "TCEFE\n",
            "TCEEF\n",
            "TCFEE\n",
            "TCFEE\n",
            "TCEEF\n",
            "TCEFE\n",
            "TECFE\n",
            "TECEF\n",
            "TEFCE\n",
            "TEFEC\n",
            "TEECF\n",
            "TEEFC\n",
            "TFCEE\n",
            "TFCEE\n",
            "TFECE\n",
            "TFEEC\n",
            "TFECE\n",
            "TFEEC\n",
            "TECEF\n",
            "TECFE\n",
            "TEECF\n",
            "TEEFC\n",
            "TEFCE\n",
            "TEFEC\n"
          ]
        }
      ]
    },
    {
      "cell_type": "markdown",
      "source": [
        "Computando a quantidade de combinações de 12 elementos tomados 5 por vez:"
      ],
      "metadata": {
        "id": "CARDBEGSRbrq"
      }
    },
    {
      "cell_type": "code",
      "source": [
        "import math\n",
        "\n",
        "print(math.comb(12,5))"
      ],
      "metadata": {
        "colab": {
          "base_uri": "https://localhost:8080/"
        },
        "id": "YqcAiu2rQpLw",
        "outputId": "7e600b31-4da4-4cf1-aa21-e6298d53ea4f"
      },
      "execution_count": null,
      "outputs": [
        {
          "output_type": "stream",
          "name": "stdout",
          "text": [
            "792\n"
          ]
        }
      ]
    },
    {
      "cell_type": "markdown",
      "source": [
        "Forma alternativa:"
      ],
      "metadata": {
        "id": "nvnL2vC6RD_v"
      }
    },
    {
      "cell_type": "code",
      "source": [
        "from itertools import count\n",
        "from math import factorial\n",
        "from math import comb as n_choose_k\n",
        "\n",
        "# fonte: https://necromuralist.github.io/posts/python-itertools-combinations/\n",
        "def n_choose_k_one(n: int, k: int) -> int:\n",
        "    \"\"\"The Binomial Coefficient\n",
        "\n",
        "    Args:\n",
        "     n: the length of the source set\n",
        "     k: the length of the combinations\n",
        "\n",
        "    Returns:\n",
        "     the number of combinations in the sequence\n",
        "    \"\"\"\n",
        "    return factorial(n) // (factorial(k) * factorial(n - k))"
      ],
      "metadata": {
        "id": "ypcRPyQAQ1SD"
      },
      "execution_count": null,
      "outputs": []
    },
    {
      "cell_type": "code",
      "source": [
        "n_choose_k_one(12,5)"
      ],
      "metadata": {
        "colab": {
          "base_uri": "https://localhost:8080/"
        },
        "id": "cWPZemVcRPj1",
        "outputId": "b403ae45-fccb-4396-b36b-b3ee1f59b849"
      },
      "execution_count": null,
      "outputs": [
        {
          "output_type": "execute_result",
          "data": {
            "text/plain": [
              "792"
            ]
          },
          "metadata": {},
          "execution_count": 8
        }
      ]
    },
    {
      "cell_type": "code",
      "source": [
        "2 * math.comb(10,4) + math.comb(10,5)"
      ],
      "metadata": {
        "colab": {
          "base_uri": "https://localhost:8080/"
        },
        "id": "5sR7VZZzSdjh",
        "outputId": "a4a48e7c-79f0-49f8-cd07-91690e0fca9e"
      },
      "execution_count": null,
      "outputs": [
        {
          "output_type": "execute_result",
          "data": {
            "text/plain": [
              "672"
            ]
          },
          "metadata": {},
          "execution_count": 9
        }
      ]
    },
    {
      "cell_type": "code",
      "source": [
        "import math\n",
        "math.comb(10,2)\n",
        "\n",
        "math.comb(3,2)"
      ],
      "metadata": {
        "colab": {
          "base_uri": "https://localhost:8080/"
        },
        "id": "9_lp_s7qmq0Y",
        "outputId": "3361479d-a1da-47e8-8d6e-ded9cb93bd07"
      },
      "execution_count": null,
      "outputs": [
        {
          "output_type": "execute_result",
          "data": {
            "text/plain": [
              "3"
            ]
          },
          "metadata": {},
          "execution_count": 3
        }
      ]
    },
    {
      "cell_type": "code",
      "source": [
        "24*9 + 9 + 9"
      ],
      "metadata": {
        "colab": {
          "base_uri": "https://localhost:8080/"
        },
        "id": "IAkHMhnRoWYq",
        "outputId": "be67bb84-fd7c-41cf-a70e-13099f9250a6"
      },
      "execution_count": null,
      "outputs": [
        {
          "output_type": "execute_result",
          "data": {
            "text/plain": [
              "234"
            ]
          },
          "metadata": {},
          "execution_count": 5
        }
      ]
    },
    {
      "cell_type": "code",
      "source": [
        "import matplotlib.pyplot as plt\n",
        "\n",
        "# Valores de X\n",
        "x = list(range(1, 7))\n",
        "\n",
        "# Probabilidades de X\n",
        "probabilidades = [1/36, 1/36, 1/36, 1/36, 1/36, 1/36]\n",
        "\n",
        "# Plotar o gráfico de barras\n",
        "plt.bar(x, probabilidades)\n",
        "\n",
        "# Definir títulos\n",
        "plt.xlabel(\"Resultado\")\n",
        "plt.ylabel(\"Probabilidade\")\n",
        "\n",
        "# Mostrar o gráfico\n",
        "plt.show()\n"
      ],
      "metadata": {
        "colab": {
          "base_uri": "https://localhost:8080/",
          "height": 449
        },
        "id": "C5mzTgdCxMAz",
        "outputId": "ff6eb5bb-8a4a-4053-c094-8c2f6a34b78b"
      },
      "execution_count": null,
      "outputs": [
        {
          "output_type": "display_data",
          "data": {
            "text/plain": [
              "<Figure size 640x480 with 1 Axes>"
            ],
            "image/png": "[encoded data removed]"
          },
          "metadata": {}
        }
      ]
    },
    {
      "cell_type": "code",
      "source": [
        "import matplotlib.pyplot as plt\n",
        "\n",
        "# Valores de Y\n",
        "y = list(range(2, 13))\n",
        "\n",
        "# Probabilidades de Y\n",
        "probabilidades = [1/36, 2/36, 3/36, 4/36, 5/36, 6/36, 5/36, 4/36, 3/36, 2/36, 1/36]\n",
        "\n",
        "# Plotar o gráfico de barras\n",
        "plt.bar(y, probabilidades)\n",
        "\n",
        "# Definir títulos\n",
        "plt.xlabel(\"Soma das Faces\")\n",
        "plt.ylabel(\"Probabilidade\")\n",
        "\n",
        "# Mostrar o gráfico\n",
        "plt.show()\n"
      ],
      "metadata": {
        "colab": {
          "base_uri": "https://localhost:8080/",
          "height": 449
        },
        "id": "Jl9HBTVtl30j",
        "outputId": "b396a699-0597-4b54-d78f-8b857ead73d6"
      },
      "execution_count": null,
      "outputs": [
        {
          "output_type": "display_data",
          "data": {
            "text/plain": [
              "<Figure size 640x480 with 1 Axes>"
            ],
            "image/png": "[encoded data removed]"
          },
          "metadata": {}
        }
      ]
    },
    {
      "cell_type": "code",
      "source": [
        "import matplotlib.pyplot as plt\n",
        "\n",
        "# Valores de Z\n",
        "z = list(range(1, 7))\n",
        "\n",
        "# Probabilidades de Z\n",
        "probabilidades = [1/36, 2/36, 3/36, 4/36, 5/36, 6/36]\n",
        "\n",
        "# Plotar o gráfico de barras\n",
        "plt.bar(z, probabilidades)\n",
        "\n",
        "# Definir títulos\n",
        "plt.xlabel(\"Máximo entre os Dados\")\n",
        "plt.ylabel(\"Probabilidade\")\n",
        "\n",
        "# Mostrar o gráfico\n",
        "plt.show()\n"
      ],
      "metadata": {
        "colab": {
          "base_uri": "https://localhost:8080/",
          "height": 449
        },
        "id": "7sALbh4hxJl8",
        "outputId": "75c23a1f-4e9d-46cd-f8c5-6bf285c624d3"
      },
      "execution_count": null,
      "outputs": [
        {
          "output_type": "display_data",
          "data": {
            "text/plain": [
              "<Figure size 640x480 with 1 Axes>"
            ],
            "image/png": "[encoded data removed]"
          },
          "metadata": {}
        }
      ]
    }
  ]
}