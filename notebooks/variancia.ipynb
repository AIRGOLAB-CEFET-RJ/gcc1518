{
 "cells": [
  {
   "cell_type": "code",
   "execution_count": 19,
   "metadata": {},
   "outputs": [],
   "source": [
    "import numpy as np"
   ]
  },
  {
   "cell_type": "markdown",
   "metadata": {},
   "source": [
    "# Alternativa 1\n",
    "\n",
    "As funções [mean](https://numpy.org/doc/stable/reference/generated/numpy.mean.html), [var](https://numpy.org/doc/stable/reference/generated/numpy.var.html) e [std](https://numpy.org/doc/stable/reference/generated/numpy.std.html) do pacote numpy permitem computar o valor esperado, a variância e o desvio padrão de uma variável aleatória."
   ]
  },
  {
   "cell_type": "code",
   "execution_count": 20,
   "metadata": {},
   "outputs": [
    {
     "name": "stdout",
     "output_type": "stream",
     "text": [
      "Temperatura média: 36.4\n",
      "Variância: 0.1600000000000001\n",
      "Desvio padrão: 0.40000000000000013\n"
     ]
    }
   ],
   "source": [
    "temperaturas = np.array([35.8, 36.0, 36.2, 36.4, 36.6, 36.8, 37.0])\n",
    "temperatura_media = np.mean(temperaturas)\n",
    "print(f'Temperatura média: {temperatura_media}')\n",
    "print(f'Variância: {np.var(temperaturas)}')\n",
    "print(f'Desvio padrão: {np.std(temperaturas)}')"
   ]
  },
  {
   "cell_type": "markdown",
   "metadata": {},
   "source": [
    "# Alternativa 2\n",
    "\n",
    "$$\n",
    "Var(X) = \\sigma^2 = \\operatorname{E}[X^{2}]-\\mu^{2}\n",
    "$$"
   ]
  },
  {
   "cell_type": "code",
   "execution_count": 12,
   "metadata": {},
   "outputs": [
    {
     "name": "stdout",
     "output_type": "stream",
     "text": [
      "Variância: 0.16000000000030923\n"
     ]
    }
   ],
   "source": [
    "temperaturas_quadradas = np.square(temperaturas)\n",
    "mean_temperaturas_quadradas = np.mean(temperaturas_quadradas)\n",
    "print(f'Variância: {mean_temperaturas_quadradas - np.square(np.mean(temperaturas))}')"
   ]
  },
  {
   "cell_type": "markdown",
   "metadata": {},
   "source": [
    "# Alternativa 3"
   ]
  },
  {
   "cell_type": "markdown",
   "metadata": {},
   "source": [
    "Para uma variável aleatória $X$ cujo valor esperado é $\\mu$ e que assume uma quantidade finita $n$ de valores, é possível computar sua variância por meio da equação abaixo.\n",
    "\n",
    "$$\n",
    "Var(X) = \\sqrt{\\frac{\\sum_{i=1}^{i=n}(x_{i} - \\mu)^{2}}{n}}\n",
    "$$"
   ]
  },
  {
   "cell_type": "code",
   "execution_count": 17,
   "metadata": {},
   "outputs": [
    {
     "name": "stdout",
     "output_type": "stream",
     "text": [
      "Variância: 0.1600000000000001\n"
     ]
    }
   ],
   "source": [
    "desvios = temperaturas - temperatura_media\n",
    "print(f'Variância: {np.sum(np.square(desvios))/temperaturas.shape[0]}')"
   ]
  }
 ],
 "metadata": {
  "kernelspec": {
   "display_name": "Python 3",
   "language": "python",
   "name": "python3"
  },
  "language_info": {
   "codemirror_mode": {
    "name": "ipython",
    "version": 3
   },
   "file_extension": ".py",
   "mimetype": "text/x-python",
   "name": "python",
   "nbconvert_exporter": "python",
   "pygments_lexer": "ipython3",
   "version": "3.8.10"
  }
 },
 "nbformat": 4,
 "nbformat_minor": 2
}
