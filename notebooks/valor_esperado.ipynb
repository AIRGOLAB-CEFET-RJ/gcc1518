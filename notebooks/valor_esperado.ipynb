{
 "cells": [
  {
   "cell_type": "code",
   "execution_count": 5,
   "metadata": {},
   "outputs": [],
   "source": [
    "import math\n",
    "\n",
    "def event_probability(k):\n",
    "    # probability mass function of Y in python\n",
    "    N = 5 # number of coin flips\n",
    "    P = 0.5 # probability of heads\n",
    "    ways = math.comb(N, k)\n",
    "    prob_heads = math.pow(P, k)\n",
    "    prob_tails = math.pow(P, N-k)\n",
    "    return ways * prob_heads * prob_tails"
   ]
  },
  {
   "cell_type": "code",
   "execution_count": 6,
   "metadata": {},
   "outputs": [
    {
     "data": {
      "text/plain": [
       "0.03125"
      ]
     },
     "execution_count": 6,
     "metadata": {},
     "output_type": "execute_result"
    }
   ],
   "source": [
    "event_probability(5)"
   ]
  },
  {
   "cell_type": "code",
   "execution_count": 92,
   "metadata": {},
   "outputs": [
    {
     "name": "stdout",
     "output_type": "stream",
     "text": [
      "[1. 1. 2. ... 4. 1. 4.]\n",
      "[ 2.  2.  4. ... 16.  2. 16.]\n",
      "26.93398\n"
     ]
    },
    {
     "data": {
      "image/png": "[encoded data removed]",
      "text/plain": [
       "<Figure size 640x480 with 1 Axes>"
      ]
     },
     "metadata": {},
     "output_type": "display_data"
    }
   ],
   "source": [
    "import numpy as np\n",
    "\n",
    "def simulate_coin_flips():\n",
    "  \"\"\"Simulates tossing a fair coin until the first appearance of tails.\n",
    "\n",
    "  Returns:\n",
    "      int: The number of coin flips needed for the first tails.\n",
    "  \"\"\"\n",
    "  flips = 0\n",
    "  while True:\n",
    "    # Generate a random number between 0 and 1 (inclusive)\n",
    "    result = np.random.rand()\n",
    "    flips += 1\n",
    "    # If the result is less than 0.5 (tails), break the loop\n",
    "    if result < 0.5:\n",
    "      break\n",
    "  return flips\n",
    "\n",
    "num_simulations = 100000\n",
    "\n",
    "num_flips = np.zeros(num_simulations)\n",
    "for i in range(num_simulations):\n",
    "    # Run the simulation and print the number of flips\n",
    "    num_flips[i] = simulate_coin_flips()\n",
    "\n",
    "import matplotlib.pyplot as plt\n",
    "\n",
    "print(num_flips)\n",
    "print(2 ** num_flips)\n",
    "print((2 ** num_flips).mean())\n",
    "plt.hist(num_flips)\n",
    "plt.show()"
   ]
  }
 ],
 "metadata": {
  "kernelspec": {
   "display_name": "Python 3",
   "language": "python",
   "name": "python3"
  },
  "language_info": {
   "codemirror_mode": {
    "name": "ipython",
    "version": 3
   },
   "file_extension": ".py",
   "mimetype": "text/x-python",
   "name": "python",
   "nbconvert_exporter": "python",
   "pygments_lexer": "ipython3",
   "version": "3.8.10"
  }
 },
 "nbformat": 4,
 "nbformat_minor": 2
}
